{
  "nbformat": 4,
  "nbformat_minor": 0,
  "metadata": {
    "colab": {
      "provenance": []
    },
    "kernelspec": {
      "name": "python3",
      "display_name": "Python 3"
    },
    "language_info": {
      "name": "python"
    }
  },
  "cells": [
    {
      "cell_type": "markdown",
      "source": [
        "# Cuisine Classifier\n",
        "\n",
        "El objetivo es construir un modelo que permita determinar a partir de un conjutno de ingredientes a que país pertenece ese plato."
      ],
      "metadata": {
        "id": "PmJJQRTbmL1Q"
      }
    },
    {
      "cell_type": "code",
      "execution_count": 95,
      "metadata": {
        "id": "_SIuQ_6hmIyW"
      },
      "outputs": [],
      "source": [
        "import pandas as pd\n",
        "import matplotlib.pyplot as plt\n",
        "import seaborn as sns\n",
        "import numpy as np\n",
        "from sklearn.pipeline import make_pipeline\n",
        "from sklearn.metrics import mean_squared_error,f1_score, classification_report,confusion_matrix,ConfusionMatrixDisplay,precision_recall_curve,accuracy_score,precision_score\n",
        "from sklearn.model_selection import train_test_split,cross_val_score\n",
        "from sklearn.preprocessing import OrdinalEncoder, OneHotEncoder,LabelEncoder\n",
        "from sklearn.compose import ColumnTransformer\n",
        "from imblearn.over_sampling import SMOTE\n",
        "from sklearn.linear_model import LogisticRegression\n",
        "from sklearn.neighbors import KNeighborsClassifier\n",
        "from sklearn.svm import SVC\n",
        "from sklearn.ensemble import RandomForestClassifier, AdaBoostClassifier\n",
        "\n"
      ]
    },
    {
      "cell_type": "code",
      "source": [
        "df = pd.read_csv(\"cuisines.csv\")\n",
        "\n",
        "df.head()"
      ],
      "metadata": {
        "colab": {
          "base_uri": "https://localhost:8080/",
          "height": 317
        },
        "id": "Iehzbs778kxd",
        "outputId": "cfe7fd62-6d05-4eab-b932-904c2f5480c5"
      },
      "execution_count": 67,
      "outputs": [
        {
          "output_type": "execute_result",
          "data": {
            "text/plain": [
              "   Unnamed: 0 cuisine  almond  angelica  anise  anise_seed  apple  \\\n",
              "0          65  indian       0         0      0           0      0   \n",
              "1          66  indian       1         0      0           0      0   \n",
              "2          67  indian       0         0      0           0      0   \n",
              "3          68  indian       0         0      0           0      0   \n",
              "4          69  indian       0         0      0           0      0   \n",
              "\n",
              "   apple_brandy  apricot  armagnac  ...  whiskey  white_bread  white_wine  \\\n",
              "0             0        0         0  ...        0            0           0   \n",
              "1             0        0         0  ...        0            0           0   \n",
              "2             0        0         0  ...        0            0           0   \n",
              "3             0        0         0  ...        0            0           0   \n",
              "4             0        0         0  ...        0            0           0   \n",
              "\n",
              "   whole_grain_wheat_flour  wine  wood  yam  yeast  yogurt  zucchini  \n",
              "0                        0     0     0    0      0       0         0  \n",
              "1                        0     0     0    0      0       0         0  \n",
              "2                        0     0     0    0      0       0         0  \n",
              "3                        0     0     0    0      0       0         0  \n",
              "4                        0     0     0    0      0       1         0  \n",
              "\n",
              "[5 rows x 385 columns]"
            ],
            "text/html": [
              "\n",
              "  <div id=\"df-f48a9b9a-556c-4fc8-9d92-e4ef79f761b5\">\n",
              "    <div class=\"colab-df-container\">\n",
              "      <div>\n",
              "<style scoped>\n",
              "    .dataframe tbody tr th:only-of-type {\n",
              "        vertical-align: middle;\n",
              "    }\n",
              "\n",
              "    .dataframe tbody tr th {\n",
              "        vertical-align: top;\n",
              "    }\n",
              "\n",
              "    .dataframe thead th {\n",
              "        text-align: right;\n",
              "    }\n",
              "</style>\n",
              "<table border=\"1\" class=\"dataframe\">\n",
              "  <thead>\n",
              "    <tr style=\"text-align: right;\">\n",
              "      <th></th>\n",
              "      <th>Unnamed: 0</th>\n",
              "      <th>cuisine</th>\n",
              "      <th>almond</th>\n",
              "      <th>angelica</th>\n",
              "      <th>anise</th>\n",
              "      <th>anise_seed</th>\n",
              "      <th>apple</th>\n",
              "      <th>apple_brandy</th>\n",
              "      <th>apricot</th>\n",
              "      <th>armagnac</th>\n",
              "      <th>...</th>\n",
              "      <th>whiskey</th>\n",
              "      <th>white_bread</th>\n",
              "      <th>white_wine</th>\n",
              "      <th>whole_grain_wheat_flour</th>\n",
              "      <th>wine</th>\n",
              "      <th>wood</th>\n",
              "      <th>yam</th>\n",
              "      <th>yeast</th>\n",
              "      <th>yogurt</th>\n",
              "      <th>zucchini</th>\n",
              "    </tr>\n",
              "  </thead>\n",
              "  <tbody>\n",
              "    <tr>\n",
              "      <th>0</th>\n",
              "      <td>65</td>\n",
              "      <td>indian</td>\n",
              "      <td>0</td>\n",
              "      <td>0</td>\n",
              "      <td>0</td>\n",
              "      <td>0</td>\n",
              "      <td>0</td>\n",
              "      <td>0</td>\n",
              "      <td>0</td>\n",
              "      <td>0</td>\n",
              "      <td>...</td>\n",
              "      <td>0</td>\n",
              "      <td>0</td>\n",
              "      <td>0</td>\n",
              "      <td>0</td>\n",
              "      <td>0</td>\n",
              "      <td>0</td>\n",
              "      <td>0</td>\n",
              "      <td>0</td>\n",
              "      <td>0</td>\n",
              "      <td>0</td>\n",
              "    </tr>\n",
              "    <tr>\n",
              "      <th>1</th>\n",
              "      <td>66</td>\n",
              "      <td>indian</td>\n",
              "      <td>1</td>\n",
              "      <td>0</td>\n",
              "      <td>0</td>\n",
              "      <td>0</td>\n",
              "      <td>0</td>\n",
              "      <td>0</td>\n",
              "      <td>0</td>\n",
              "      <td>0</td>\n",
              "      <td>...</td>\n",
              "      <td>0</td>\n",
              "      <td>0</td>\n",
              "      <td>0</td>\n",
              "      <td>0</td>\n",
              "      <td>0</td>\n",
              "      <td>0</td>\n",
              "      <td>0</td>\n",
              "      <td>0</td>\n",
              "      <td>0</td>\n",
              "      <td>0</td>\n",
              "    </tr>\n",
              "    <tr>\n",
              "      <th>2</th>\n",
              "      <td>67</td>\n",
              "      <td>indian</td>\n",
              "      <td>0</td>\n",
              "      <td>0</td>\n",
              "      <td>0</td>\n",
              "      <td>0</td>\n",
              "      <td>0</td>\n",
              "      <td>0</td>\n",
              "      <td>0</td>\n",
              "      <td>0</td>\n",
              "      <td>...</td>\n",
              "      <td>0</td>\n",
              "      <td>0</td>\n",
              "      <td>0</td>\n",
              "      <td>0</td>\n",
              "      <td>0</td>\n",
              "      <td>0</td>\n",
              "      <td>0</td>\n",
              "      <td>0</td>\n",
              "      <td>0</td>\n",
              "      <td>0</td>\n",
              "    </tr>\n",
              "    <tr>\n",
              "      <th>3</th>\n",
              "      <td>68</td>\n",
              "      <td>indian</td>\n",
              "      <td>0</td>\n",
              "      <td>0</td>\n",
              "      <td>0</td>\n",
              "      <td>0</td>\n",
              "      <td>0</td>\n",
              "      <td>0</td>\n",
              "      <td>0</td>\n",
              "      <td>0</td>\n",
              "      <td>...</td>\n",
              "      <td>0</td>\n",
              "      <td>0</td>\n",
              "      <td>0</td>\n",
              "      <td>0</td>\n",
              "      <td>0</td>\n",
              "      <td>0</td>\n",
              "      <td>0</td>\n",
              "      <td>0</td>\n",
              "      <td>0</td>\n",
              "      <td>0</td>\n",
              "    </tr>\n",
              "    <tr>\n",
              "      <th>4</th>\n",
              "      <td>69</td>\n",
              "      <td>indian</td>\n",
              "      <td>0</td>\n",
              "      <td>0</td>\n",
              "      <td>0</td>\n",
              "      <td>0</td>\n",
              "      <td>0</td>\n",
              "      <td>0</td>\n",
              "      <td>0</td>\n",
              "      <td>0</td>\n",
              "      <td>...</td>\n",
              "      <td>0</td>\n",
              "      <td>0</td>\n",
              "      <td>0</td>\n",
              "      <td>0</td>\n",
              "      <td>0</td>\n",
              "      <td>0</td>\n",
              "      <td>0</td>\n",
              "      <td>0</td>\n",
              "      <td>1</td>\n",
              "      <td>0</td>\n",
              "    </tr>\n",
              "  </tbody>\n",
              "</table>\n",
              "<p>5 rows × 385 columns</p>\n",
              "</div>\n",
              "      <button class=\"colab-df-convert\" onclick=\"convertToInteractive('df-f48a9b9a-556c-4fc8-9d92-e4ef79f761b5')\"\n",
              "              title=\"Convert this dataframe to an interactive table.\"\n",
              "              style=\"display:none;\">\n",
              "        \n",
              "  <svg xmlns=\"http://www.w3.org/2000/svg\" height=\"24px\"viewBox=\"0 0 24 24\"\n",
              "       width=\"24px\">\n",
              "    <path d=\"M0 0h24v24H0V0z\" fill=\"none\"/>\n",
              "    <path d=\"M18.56 5.44l.94 2.06.94-2.06 2.06-.94-2.06-.94-.94-2.06-.94 2.06-2.06.94zm-11 1L8.5 8.5l.94-2.06 2.06-.94-2.06-.94L8.5 2.5l-.94 2.06-2.06.94zm10 10l.94 2.06.94-2.06 2.06-.94-2.06-.94-.94-2.06-.94 2.06-2.06.94z\"/><path d=\"M17.41 7.96l-1.37-1.37c-.4-.4-.92-.59-1.43-.59-.52 0-1.04.2-1.43.59L10.3 9.45l-7.72 7.72c-.78.78-.78 2.05 0 2.83L4 21.41c.39.39.9.59 1.41.59.51 0 1.02-.2 1.41-.59l7.78-7.78 2.81-2.81c.8-.78.8-2.07 0-2.86zM5.41 20L4 18.59l7.72-7.72 1.47 1.35L5.41 20z\"/>\n",
              "  </svg>\n",
              "      </button>\n",
              "      \n",
              "  <style>\n",
              "    .colab-df-container {\n",
              "      display:flex;\n",
              "      flex-wrap:wrap;\n",
              "      gap: 12px;\n",
              "    }\n",
              "\n",
              "    .colab-df-convert {\n",
              "      background-color: #E8F0FE;\n",
              "      border: none;\n",
              "      border-radius: 50%;\n",
              "      cursor: pointer;\n",
              "      display: none;\n",
              "      fill: #1967D2;\n",
              "      height: 32px;\n",
              "      padding: 0 0 0 0;\n",
              "      width: 32px;\n",
              "    }\n",
              "\n",
              "    .colab-df-convert:hover {\n",
              "      background-color: #E2EBFA;\n",
              "      box-shadow: 0px 1px 2px rgba(60, 64, 67, 0.3), 0px 1px 3px 1px rgba(60, 64, 67, 0.15);\n",
              "      fill: #174EA6;\n",
              "    }\n",
              "\n",
              "    [theme=dark] .colab-df-convert {\n",
              "      background-color: #3B4455;\n",
              "      fill: #D2E3FC;\n",
              "    }\n",
              "\n",
              "    [theme=dark] .colab-df-convert:hover {\n",
              "      background-color: #434B5C;\n",
              "      box-shadow: 0px 1px 3px 1px rgba(0, 0, 0, 0.15);\n",
              "      filter: drop-shadow(0px 1px 2px rgba(0, 0, 0, 0.3));\n",
              "      fill: #FFFFFF;\n",
              "    }\n",
              "  </style>\n",
              "\n",
              "      <script>\n",
              "        const buttonEl =\n",
              "          document.querySelector('#df-f48a9b9a-556c-4fc8-9d92-e4ef79f761b5 button.colab-df-convert');\n",
              "        buttonEl.style.display =\n",
              "          google.colab.kernel.accessAllowed ? 'block' : 'none';\n",
              "\n",
              "        async function convertToInteractive(key) {\n",
              "          const element = document.querySelector('#df-f48a9b9a-556c-4fc8-9d92-e4ef79f761b5');\n",
              "          const dataTable =\n",
              "            await google.colab.kernel.invokeFunction('convertToInteractive',\n",
              "                                                     [key], {});\n",
              "          if (!dataTable) return;\n",
              "\n",
              "          const docLinkHtml = 'Like what you see? Visit the ' +\n",
              "            '<a target=\"_blank\" href=https://colab.research.google.com/notebooks/data_table.ipynb>data table notebook</a>'\n",
              "            + ' to learn more about interactive tables.';\n",
              "          element.innerHTML = '';\n",
              "          dataTable['output_type'] = 'display_data';\n",
              "          await google.colab.output.renderOutput(dataTable, element);\n",
              "          const docLink = document.createElement('div');\n",
              "          docLink.innerHTML = docLinkHtml;\n",
              "          element.appendChild(docLink);\n",
              "        }\n",
              "      </script>\n",
              "    </div>\n",
              "  </div>\n",
              "  "
            ]
          },
          "metadata": {},
          "execution_count": 67
        }
      ]
    },
    {
      "cell_type": "code",
      "source": [
        "print(df.shape)\n",
        "print(df.info())"
      ],
      "metadata": {
        "colab": {
          "base_uri": "https://localhost:8080/"
        },
        "id": "ksN_-Vj78zIP",
        "outputId": "2ea19c24-5834-4b6f-fece-f076130f207e"
      },
      "execution_count": 68,
      "outputs": [
        {
          "output_type": "stream",
          "name": "stdout",
          "text": [
            "(2448, 385)\n",
            "<class 'pandas.core.frame.DataFrame'>\n",
            "RangeIndex: 2448 entries, 0 to 2447\n",
            "Columns: 385 entries, Unnamed: 0 to zucchini\n",
            "dtypes: int64(384), object(1)\n",
            "memory usage: 7.2+ MB\n",
            "None\n"
          ]
        }
      ]
    },
    {
      "cell_type": "markdown",
      "source": [
        "El dataset tiene 2448 observaciones. Disponemos de 385 atributos de los cuales, 384 son int y 1 es object"
      ],
      "metadata": {
        "id": "UZzXIurI8-Sv"
      }
    },
    {
      "cell_type": "code",
      "source": [
        "sns.countplot(data=df, x=\"cuisine\",palette=\"rainbow\" ).set(title=\"Cantidad de cocinas por tipo\")\n"
      ],
      "metadata": {
        "colab": {
          "base_uri": "https://localhost:8080/",
          "height": 489
        },
        "id": "2rSTuL57_JO7",
        "outputId": "9cf8d5d1-11ef-4368-ee66-d35baa8bb110"
      },
      "execution_count": 69,
      "outputs": [
        {
          "output_type": "execute_result",
          "data": {
            "text/plain": [
              "[Text(0.5, 1.0, 'Cantidad de cocinas por tipo')]"
            ]
          },
          "metadata": {},
          "execution_count": 69
        },
        {
          "output_type": "display_data",
          "data": {
            "text/plain": [
              "<Figure size 640x480 with 1 Axes>"
            ],
            "image/png": "[encoded data removed]"
          },
          "metadata": {}
        }
      ]
    },
    {
      "cell_type": "code",
      "source": [
        "df.cuisine.value_counts()"
      ],
      "metadata": {
        "colab": {
          "base_uri": "https://localhost:8080/"
        },
        "id": "-PbKnE8IBHOw",
        "outputId": "06f9b410-7e81-4453-8098-555559fac047"
      },
      "execution_count": 70,
      "outputs": [
        {
          "output_type": "execute_result",
          "data": {
            "text/plain": [
              "korean      799\n",
              "indian      598\n",
              "chinese     442\n",
              "japanese    320\n",
              "thai        289\n",
              "Name: cuisine, dtype: int64"
            ]
          },
          "metadata": {},
          "execution_count": 70
        }
      ]
    },
    {
      "cell_type": "markdown",
      "source": [
        "En el gráfico se observa las cocinas que predominan son 'indian' y 'korean'. En menor proporción hay obervaciones de cocina 'thai','chinese' y 'japanese'. El dataset está desbalanceado"
      ],
      "metadata": {
        "id": "eqlWb24L_nNs"
      }
    },
    {
      "cell_type": "markdown",
      "source": [
        "## Ingredientes dataframe\n",
        "Crearemos un dataframe con los ingredientes típicos según el tipo de cocina"
      ],
      "metadata": {
        "id": "0eUe5Z6qBbjt"
      }
    },
    {
      "cell_type": "code",
      "source": [
        "thai_df = df[(df.cuisine == \"thai\")]\n",
        "korean_df = df[(df.cuisine == \"korean\")]\n",
        "indian_df = df[(df.cuisine==\"indian\")]\n",
        "chinese_df = df[(df.cuisine == \"chinese\")]\n",
        "japanese_df = df[(df.cuisine == \"japanese\")]\n"
      ],
      "metadata": {
        "id": "lRsbeIFoBmXc"
      },
      "execution_count": 71,
      "outputs": []
    },
    {
      "cell_type": "code",
      "source": [
        "def create_ingredient_df(df):\n",
        "  \"\"\"Está función transpone el DataFrame original, elimina las columnas 'cuisine' y 'Unnamed: 0',\n",
        "  realiza la suma de los valores en cada fila y crea un nuevo DataFrame con una columna llamada 'value' que contiene los resultados de las sumas.\n",
        "  \"\"\"\n",
        "  ing_df = df.T.drop(['cuisine','Unnamed: 0']).sum(axis=1).to_frame('value')\n",
        "  ing_df = ing_df[(ing_df.T != 0).any()]\n",
        "  ing_df = ing_df.sort_values(by='value', ascending=False, inplace=False)\n",
        "  ing_df = ing_df.rename_axis('ingredient')\n",
        "\n",
        "  return ing_df"
      ],
      "metadata": {
        "id": "40QmwPG-CkNc"
      },
      "execution_count": 72,
      "outputs": []
    },
    {
      "cell_type": "code",
      "source": [
        "thai_ing_df = create_ingredient_df(thai_df)\n",
        "thai_ing_df.head(10).plot.barh()"
      ],
      "metadata": {
        "colab": {
          "base_uri": "https://localhost:8080/",
          "height": 447
        },
        "id": "bybTIR6hD0cM",
        "outputId": "45d1e9d0-50c9-4da2-b999-71eb02e92d51"
      },
      "execution_count": 73,
      "outputs": [
        {
          "output_type": "execute_result",
          "data": {
            "text/plain": [
              "<Axes: ylabel='ingredient'>"
            ]
          },
          "metadata": {},
          "execution_count": 73
        },
        {
          "output_type": "display_data",
          "data": {
            "text/plain": [
              "<Figure size 640x480 with 1 Axes>"
            ],
            "image/png": "[encoded data removed]"
          },
          "metadata": {}
        }
      ]
    },
    {
      "cell_type": "code",
      "source": [
        "jpn_ing_df = create_ingredient_df(japanese_df)\n",
        "jpn_ing_df.head(10).plot.barh()"
      ],
      "metadata": {
        "colab": {
          "base_uri": "https://localhost:8080/",
          "height": 447
        },
        "id": "HOpQUWyiHnIp",
        "outputId": "8e9a536d-4803-467a-e66f-94b4390d3b3f"
      },
      "execution_count": 74,
      "outputs": [
        {
          "output_type": "execute_result",
          "data": {
            "text/plain": [
              "<Axes: ylabel='ingredient'>"
            ]
          },
          "metadata": {},
          "execution_count": 74
        },
        {
          "output_type": "display_data",
          "data": {
            "text/plain": [
              "<Figure size 640x480 with 1 Axes>"
            ],
            "image/png": "[encoded data removed]"
          },
          "metadata": {}
        }
      ]
    },
    {
      "cell_type": "code",
      "source": [
        "chinese_ing_df = create_ingredient_df(chinese_df)\n",
        "chinese_ing_df.head(10).plot.barh()"
      ],
      "metadata": {
        "colab": {
          "base_uri": "https://localhost:8080/",
          "height": 447
        },
        "id": "a49AZNX9Htjr",
        "outputId": "6b991241-38e4-4085-ac27-1ce5d0ee583a"
      },
      "execution_count": 75,
      "outputs": [
        {
          "output_type": "execute_result",
          "data": {
            "text/plain": [
              "<Axes: ylabel='ingredient'>"
            ]
          },
          "metadata": {},
          "execution_count": 75
        },
        {
          "output_type": "display_data",
          "data": {
            "text/plain": [
              "<Figure size 640x480 with 1 Axes>"
            ],
            "image/png": "[encoded data removed]"
          },
          "metadata": {}
        }
      ]
    },
    {
      "cell_type": "code",
      "source": [
        "korean_ing_df = create_ingredient_df(korean_df)\n",
        "korean_ing_df.head(10).plot.barh()"
      ],
      "metadata": {
        "colab": {
          "base_uri": "https://localhost:8080/",
          "height": 447
        },
        "id": "VaH1NALbHzEp",
        "outputId": "32804643-4d29-42f0-b761-cc05d9ed673f"
      },
      "execution_count": 76,
      "outputs": [
        {
          "output_type": "execute_result",
          "data": {
            "text/plain": [
              "<Axes: ylabel='ingredient'>"
            ]
          },
          "metadata": {},
          "execution_count": 76
        },
        {
          "output_type": "display_data",
          "data": {
            "text/plain": [
              "<Figure size 640x480 with 1 Axes>"
            ],
            "image/png": "[encoded data removed]"
          },
          "metadata": {}
        }
      ]
    },
    {
      "cell_type": "code",
      "source": [
        "indian_ing_df = create_ingredient_df(indian_df)\n",
        "indian_ing_df.head(10).plot.barh()"
      ],
      "metadata": {
        "colab": {
          "base_uri": "https://localhost:8080/",
          "height": 447
        },
        "id": "KEb3dgTMH6Ro",
        "outputId": "138b1d82-267d-4f69-f467-4ae20c1caf6b"
      },
      "execution_count": 77,
      "outputs": [
        {
          "output_type": "execute_result",
          "data": {
            "text/plain": [
              "<Axes: ylabel='ingredient'>"
            ]
          },
          "metadata": {},
          "execution_count": 77
        },
        {
          "output_type": "display_data",
          "data": {
            "text/plain": [
              "<Figure size 640x480 with 1 Axes>"
            ],
            "image/png": "[encoded data removed]"
          },
          "metadata": {}
        }
      ]
    },
    {
      "cell_type": "markdown",
      "source": [
        "De los gráficos anteriores, podemos observar que los ingredientes mas comunes son 'rice','garlic' y 'ginger'. Los eliminaremos del dataset original.\n"
      ],
      "metadata": {
        "id": "QQ-OKbfvIGJq"
      }
    },
    {
      "cell_type": "code",
      "source": [
        "df =  df.drop(['Unnamed: 0','rice','garlic','ginger'], axis=1)"
      ],
      "metadata": {
        "id": "BSBbZXeAIZGY"
      },
      "execution_count": 78,
      "outputs": []
    },
    {
      "cell_type": "markdown",
      "source": [
        "## Balancear dataset\n",
        "\n",
        "Para balancear utilizaremos el método SMOTE (Synthetic Minority Over-sampling Technique) de la librería ImbalancedLearn.\n",
        "\n",
        "El proceso básico de SMOTE es el siguiente:\n",
        "\n",
        "\n",
        "\n",
        "1.   Para cada muestra de la clase minoritaria, se selecciona aleatoriamente uno o varios de sus vecinos más cercanos.\n",
        "2.   Se generan nuevas muestras sintéticas a lo largo de las líneas que conectan cada muestra con sus vecinos seleccionados. Estas nuevas muestras se encuentran dentro del espacio de características definido por los valores de las características existentes.\n",
        "3. Las nuevas muestras sintéticas se agregan al conjunto de datos para equilibrar las clases.\n",
        "\n",
        "El resultado final es un conjunto de datos donde la clase minoritaria está más representada, lo que puede mejorar el rendimiento de los algoritmos de aprendizaje automático al abordar el problema de desequilibrio de clases."
      ],
      "metadata": {
        "id": "Owi8kY-3I0CE"
      }
    },
    {
      "cell_type": "code",
      "source": [
        "oversample = SMOTE()\n",
        "\n",
        "feature_df= df.drop(['cuisine'], axis=1)\n",
        "labels_df = df.cuisine\n",
        "\n",
        "\n",
        "transformed_feature_df, transformed_label_df = oversample.fit_resample(feature_df, labels_df)\n",
        "\n",
        "print(f'new label count: {transformed_label_df.value_counts()}')\n",
        "\n",
        "print(f'old label count: {df.cuisine.value_counts()}')\n",
        "\n",
        "transformed_df = pd.concat([transformed_label_df,transformed_feature_df],axis=1, join='outer')"
      ],
      "metadata": {
        "colab": {
          "base_uri": "https://localhost:8080/"
        },
        "id": "aB0hDLdNI1OT",
        "outputId": "8f3ef764-09d8-4a69-da63-0366109722a9"
      },
      "execution_count": 82,
      "outputs": [
        {
          "output_type": "stream",
          "name": "stdout",
          "text": [
            "new label count: indian      799\n",
            "thai        799\n",
            "chinese     799\n",
            "japanese    799\n",
            "korean      799\n",
            "Name: cuisine, dtype: int64\n",
            "old label count: korean      799\n",
            "indian      598\n",
            "chinese     442\n",
            "japanese    320\n",
            "thai        289\n",
            "Name: cuisine, dtype: int64\n"
          ]
        }
      ]
    },
    {
      "cell_type": "code",
      "source": [
        "transformed_df.to_csv(\"../data/cleaned_cuisines.csv\")\n"
      ],
      "metadata": {
        "id": "DwnghHvONeEO"
      },
      "execution_count": null,
      "outputs": []
    },
    {
      "cell_type": "markdown",
      "source": [
        "## Predecir cocina\n",
        "\n",
        "Construiremos distintos modelos para predecir una cocina a partir de los ingredientes"
      ],
      "metadata": {
        "id": "BVqp629bN-Uq"
      }
    },
    {
      "cell_type": "code",
      "source": [
        "X_train, X_test, y_train, y_test = train_test_split(feature_df, labels_df, test_size=0.3)"
      ],
      "metadata": {
        "id": "jYUVYgpoTWXB"
      },
      "execution_count": 87,
      "outputs": []
    },
    {
      "cell_type": "markdown",
      "source": [
        "### Logistic Regression"
      ],
      "metadata": {
        "id": "5LwK3f5KTTHZ"
      }
    },
    {
      "cell_type": "code",
      "source": [
        "lr = LogisticRegression(multi_class=\"ovr\",solver=\"liblinear\")\n",
        "\n",
        "model = lr.fit(X_train,np.ravel(y_train))\n",
        "\n",
        "accuracy = model.score(X_test, y_test)\n",
        "print (\"Accuracy is {}\".format(accuracy))"
      ],
      "metadata": {
        "colab": {
          "base_uri": "https://localhost:8080/"
        },
        "id": "Q7Zkhc6rTU8u",
        "outputId": "a2d098c0-a296-45a3-de6a-8174a0b77b31"
      },
      "execution_count": 90,
      "outputs": [
        {
          "output_type": "stream",
          "name": "stdout",
          "text": [
            "Accuracy is 0.7836734693877551\n"
          ]
        }
      ]
    },
    {
      "cell_type": "markdown",
      "source": [
        "### Otros clasificadores\n",
        "\n",
        "Usaremos para clasificar:\n",
        "\n",
        "\n",
        "1.   Linear SVC\n",
        "2.   KNN\n",
        "3. Support Vector Classifier\n",
        "4. Ensemble Classifiers:\n",
        "      * Random Forest\n",
        "      * AdaBoost\n",
        "\n",
        "\n"
      ],
      "metadata": {
        "id": "xOM46Y35VM-G"
      }
    },
    {
      "cell_type": "markdown",
      "source": [
        "*C* representa el parámetro de penalización del clasificador. Este controla el equilibrio entre lograr una separación óptima de las clases y permitir que algunas muestras se clasifiquen incorrectamente. Un valor más bajo de C permite más errores de clasificación, mientras que un valor más alto busca minimizar los errores."
      ],
      "metadata": {
        "id": "QNBvmcI8VNJx"
      }
    },
    {
      "cell_type": "code",
      "source": [
        "C = 10\n",
        "# Create different classifiers.\n",
        "classifiers = {\n",
        "     'Linear SVC': SVC(kernel='linear', C=C, probability=True,random_state=0),\n",
        "      'KNN classifier': KNeighborsClassifier(C),\n",
        "     'SVC': SVC(),\n",
        "     'RFST': RandomForestClassifier(n_estimators=100),\n",
        "    'ADA': AdaBoostClassifier(n_estimators=100)\n",
        "    }\n",
        "\n",
        "n_classifiers = len(classifiers)\n",
        "\n",
        "for index, (name, classifier) in enumerate(classifiers.items()):\n",
        "    classifier.fit(X_train, np.ravel(y_train))\n",
        "\n",
        "    y_pred = classifier.predict(X_test)\n",
        "    accuracy = accuracy_score(y_test, y_pred)\n",
        "    print(\"Accuracy (train) for %s: %0.1f%% \" % (name, accuracy * 100))\n",
        "    print(classification_report(y_test,y_pred))"
      ],
      "metadata": {
        "colab": {
          "base_uri": "https://localhost:8080/"
        },
        "id": "hjZ3M1GFXDwz",
        "outputId": "96d1ac3c-62a9-4c65-e9e3-032903f700b7"
      },
      "execution_count": 99,
      "outputs": [
        {
          "output_type": "stream",
          "name": "stdout",
          "text": [
            "Accuracy (train) for Linear SVC: 73.7% \n",
            "              precision    recall  f1-score   support\n",
            "\n",
            "     chinese       0.50      0.63      0.56       122\n",
            "      indian       0.88      0.85      0.86       179\n",
            "    japanese       0.60      0.56      0.58        98\n",
            "      korean       0.83      0.80      0.81       252\n",
            "        thai       0.76      0.68      0.72        84\n",
            "\n",
            "    accuracy                           0.74       735\n",
            "   macro avg       0.71      0.70      0.71       735\n",
            "weighted avg       0.75      0.74      0.74       735\n",
            "\n",
            "Accuracy (train) for KNN classifier: 69.0% \n",
            "              precision    recall  f1-score   support\n",
            "\n",
            "     chinese       0.49      0.54      0.51       122\n",
            "      indian       0.78      0.84      0.81       179\n",
            "    japanese       0.66      0.55      0.60        98\n",
            "      korean       0.71      0.83      0.76       252\n",
            "        thai       0.93      0.33      0.49        84\n",
            "\n",
            "    accuracy                           0.69       735\n",
            "   macro avg       0.71      0.62      0.64       735\n",
            "weighted avg       0.71      0.69      0.68       735\n",
            "\n",
            "Accuracy (train) for SVC: 79.0% \n",
            "              precision    recall  f1-score   support\n",
            "\n",
            "     chinese       0.66      0.66      0.66       122\n",
            "      indian       0.87      0.92      0.89       179\n",
            "    japanese       0.72      0.56      0.63        98\n",
            "      korean       0.80      0.90      0.85       252\n",
            "        thai       0.83      0.65      0.73        84\n",
            "\n",
            "    accuracy                           0.79       735\n",
            "   macro avg       0.78      0.74      0.75       735\n",
            "weighted avg       0.79      0.79      0.79       735\n",
            "\n",
            "Accuracy (train) for RFST: 77.1% \n",
            "              precision    recall  f1-score   support\n",
            "\n",
            "     chinese       0.61      0.66      0.64       122\n",
            "      indian       0.87      0.91      0.89       179\n",
            "    japanese       0.68      0.53      0.60        98\n",
            "      korean       0.79      0.86      0.82       252\n",
            "        thai       0.84      0.64      0.73        84\n",
            "\n",
            "    accuracy                           0.77       735\n",
            "   macro avg       0.76      0.72      0.74       735\n",
            "weighted avg       0.77      0.77      0.77       735\n",
            "\n",
            "Accuracy (train) for ADA: 70.1% \n",
            "              precision    recall  f1-score   support\n",
            "\n",
            "     chinese       0.50      0.55      0.52       122\n",
            "      indian       0.88      0.81      0.85       179\n",
            "    japanese       0.50      0.44      0.47        98\n",
            "      korean       0.77      0.79      0.78       252\n",
            "        thai       0.67      0.74      0.70        84\n",
            "\n",
            "    accuracy                           0.70       735\n",
            "   macro avg       0.66      0.66      0.66       735\n",
            "weighted avg       0.70      0.70      0.70       735\n",
            "\n"
          ]
        }
      ]
    },
    {
      "cell_type": "markdown",
      "source": [
        "El modelo que tiene mejor desempeño es el de SVC con un accuracy del 79%."
      ],
      "metadata": {
        "id": "IjunkgY3ayY7"
      }
    }
  ]
}