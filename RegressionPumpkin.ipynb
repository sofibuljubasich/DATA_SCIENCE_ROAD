{
  "nbformat": 4,
  "nbformat_minor": 0,
  "metadata": {
    "colab": {
      "provenance": []
    },
    "kernelspec": {
      "name": "python3",
      "display_name": "Python 3"
    },
    "language_info": {
      "name": "python"
    }
  },
  "cells": [
    {
      "cell_type": "markdown",
      "source": [
        "### Regression model for Pumpkin price in USA\n",
        "\n",
        "This challenge is part of the Machine Learning Course from Microsoft.\n",
        "The dataset includes 1757 lines of data about the market for pumpkins, sorted into groupings by city. This is raw data extracted from the Specialty Crops Terminal Markets Standard Reports distributed by the United States Department of Agriculture.\n",
        "\n",
        "Load up required libraries and dataset. Convert the data to a dataframe containing a subset of the data:\n",
        "\n",
        "\n",
        "1.   Only get pumpkins priced by the bushel\n",
        "2.   Convert the date to a month\n",
        "3.   Calculate the price to be an average of high and low prices\n",
        "4.   Convert the price to reflect the pricing by bushel quantity"
      ],
      "metadata": {
        "id": "VYyQv4OyPj3F"
      }
    },
    {
      "cell_type": "code",
      "execution_count": null,
      "metadata": {
        "id": "4GhP99KjPFUL"
      },
      "outputs": [],
      "source": [
        "import pandas as pd\n",
        "import matplotlib.pyplot as plt\n",
        "import numpy as np\n",
        "from datetime import datetime\n",
        "import seaborn as sns\n",
        "from sklearn.preprocessing import PolynomialFeatures\n",
        "from sklearn.pipeline import make_pipeline\n",
        "from sklearn.linear_model import LinearRegression\n",
        "from sklearn.metrics import mean_squared_error\n",
        "from sklearn.model_selection import train_test_split"
      ]
    },
    {
      "cell_type": "markdown",
      "source": [
        "# Explore the data"
      ],
      "metadata": {
        "id": "yU3BpwPVebBQ"
      }
    },
    {
      "cell_type": "code",
      "source": [
        "df = pd.read_csv(\"US-pumpkins.csv\")\n",
        "df.head()"
      ],
      "metadata": {
        "colab": {
          "base_uri": "https://localhost:8080/",
          "height": 421
        },
        "id": "ir_86PbcQJCC",
        "outputId": "e7b9684f-f223-4e19-f94f-249b46b43569"
      },
      "execution_count": null,
      "outputs": [
        {
          "output_type": "execute_result",
          "data": {
            "text/plain": [
              "   City Name Type       Package      Variety Sub Variety  Grade     Date  \\\n",
              "0  BALTIMORE  NaN  24 inch bins          NaN         NaN    NaN  4/29/17   \n",
              "1  BALTIMORE  NaN  24 inch bins          NaN         NaN    NaN   5/6/17   \n",
              "2  BALTIMORE  NaN  24 inch bins  HOWDEN TYPE         NaN    NaN  9/24/16   \n",
              "3  BALTIMORE  NaN  24 inch bins  HOWDEN TYPE         NaN    NaN  9/24/16   \n",
              "4  BALTIMORE  NaN  24 inch bins  HOWDEN TYPE         NaN    NaN  11/5/16   \n",
              "\n",
              "   Low Price  High Price  Mostly Low  ...  Unit of Sale Quality Condition  \\\n",
              "0      270.0       280.0       270.0  ...           NaN     NaN       NaN   \n",
              "1      270.0       280.0       270.0  ...           NaN     NaN       NaN   \n",
              "2      160.0       160.0       160.0  ...           NaN     NaN       NaN   \n",
              "3      160.0       160.0       160.0  ...           NaN     NaN       NaN   \n",
              "4       90.0       100.0        90.0  ...           NaN     NaN       NaN   \n",
              "\n",
              "  Appearance Storage  Crop Repack  Trans Mode  Unnamed: 24  Unnamed: 25  \n",
              "0        NaN     NaN   NaN      E         NaN          NaN          NaN  \n",
              "1        NaN     NaN   NaN      E         NaN          NaN          NaN  \n",
              "2        NaN     NaN   NaN      N         NaN          NaN          NaN  \n",
              "3        NaN     NaN   NaN      N         NaN          NaN          NaN  \n",
              "4        NaN     NaN   NaN      N         NaN          NaN          NaN  \n",
              "\n",
              "[5 rows x 26 columns]"
            ],
            "text/html": [
              "\n",
              "  <div id=\"df-b119d54b-8aac-40fb-bf8b-932e07deff5c\">\n",
              "    <div class=\"colab-df-container\">\n",
              "      <div>\n",
              "<style scoped>\n",
              "    .dataframe tbody tr th:only-of-type {\n",
              "        vertical-align: middle;\n",
              "    }\n",
              "\n",
              "    .dataframe tbody tr th {\n",
              "        vertical-align: top;\n",
              "    }\n",
              "\n",
              "    .dataframe thead th {\n",
              "        text-align: right;\n",
              "    }\n",
              "</style>\n",
              "<table border=\"1\" class=\"dataframe\">\n",
              "  <thead>\n",
              "    <tr style=\"text-align: right;\">\n",
              "      <th></th>\n",
              "      <th>City Name</th>\n",
              "      <th>Type</th>\n",
              "      <th>Package</th>\n",
              "      <th>Variety</th>\n",
              "      <th>Sub Variety</th>\n",
              "      <th>Grade</th>\n",
              "      <th>Date</th>\n",
              "      <th>Low Price</th>\n",
              "      <th>High Price</th>\n",
              "      <th>Mostly Low</th>\n",
              "      <th>...</th>\n",
              "      <th>Unit of Sale</th>\n",
              "      <th>Quality</th>\n",
              "      <th>Condition</th>\n",
              "      <th>Appearance</th>\n",
              "      <th>Storage</th>\n",
              "      <th>Crop</th>\n",
              "      <th>Repack</th>\n",
              "      <th>Trans Mode</th>\n",
              "      <th>Unnamed: 24</th>\n",
              "      <th>Unnamed: 25</th>\n",
              "    </tr>\n",
              "  </thead>\n",
              "  <tbody>\n",
              "    <tr>\n",
              "      <th>0</th>\n",
              "      <td>BALTIMORE</td>\n",
              "      <td>NaN</td>\n",
              "      <td>24 inch bins</td>\n",
              "      <td>NaN</td>\n",
              "      <td>NaN</td>\n",
              "      <td>NaN</td>\n",
              "      <td>4/29/17</td>\n",
              "      <td>270.0</td>\n",
              "      <td>280.0</td>\n",
              "      <td>270.0</td>\n",
              "      <td>...</td>\n",
              "      <td>NaN</td>\n",
              "      <td>NaN</td>\n",
              "      <td>NaN</td>\n",
              "      <td>NaN</td>\n",
              "      <td>NaN</td>\n",
              "      <td>NaN</td>\n",
              "      <td>E</td>\n",
              "      <td>NaN</td>\n",
              "      <td>NaN</td>\n",
              "      <td>NaN</td>\n",
              "    </tr>\n",
              "    <tr>\n",
              "      <th>1</th>\n",
              "      <td>BALTIMORE</td>\n",
              "      <td>NaN</td>\n",
              "      <td>24 inch bins</td>\n",
              "      <td>NaN</td>\n",
              "      <td>NaN</td>\n",
              "      <td>NaN</td>\n",
              "      <td>5/6/17</td>\n",
              "      <td>270.0</td>\n",
              "      <td>280.0</td>\n",
              "      <td>270.0</td>\n",
              "      <td>...</td>\n",
              "      <td>NaN</td>\n",
              "      <td>NaN</td>\n",
              "      <td>NaN</td>\n",
              "      <td>NaN</td>\n",
              "      <td>NaN</td>\n",
              "      <td>NaN</td>\n",
              "      <td>E</td>\n",
              "      <td>NaN</td>\n",
              "      <td>NaN</td>\n",
              "      <td>NaN</td>\n",
              "    </tr>\n",
              "    <tr>\n",
              "      <th>2</th>\n",
              "      <td>BALTIMORE</td>\n",
              "      <td>NaN</td>\n",
              "      <td>24 inch bins</td>\n",
              "      <td>HOWDEN TYPE</td>\n",
              "      <td>NaN</td>\n",
              "      <td>NaN</td>\n",
              "      <td>9/24/16</td>\n",
              "      <td>160.0</td>\n",
              "      <td>160.0</td>\n",
              "      <td>160.0</td>\n",
              "      <td>...</td>\n",
              "      <td>NaN</td>\n",
              "      <td>NaN</td>\n",
              "      <td>NaN</td>\n",
              "      <td>NaN</td>\n",
              "      <td>NaN</td>\n",
              "      <td>NaN</td>\n",
              "      <td>N</td>\n",
              "      <td>NaN</td>\n",
              "      <td>NaN</td>\n",
              "      <td>NaN</td>\n",
              "    </tr>\n",
              "    <tr>\n",
              "      <th>3</th>\n",
              "      <td>BALTIMORE</td>\n",
              "      <td>NaN</td>\n",
              "      <td>24 inch bins</td>\n",
              "      <td>HOWDEN TYPE</td>\n",
              "      <td>NaN</td>\n",
              "      <td>NaN</td>\n",
              "      <td>9/24/16</td>\n",
              "      <td>160.0</td>\n",
              "      <td>160.0</td>\n",
              "      <td>160.0</td>\n",
              "      <td>...</td>\n",
              "      <td>NaN</td>\n",
              "      <td>NaN</td>\n",
              "      <td>NaN</td>\n",
              "      <td>NaN</td>\n",
              "      <td>NaN</td>\n",
              "      <td>NaN</td>\n",
              "      <td>N</td>\n",
              "      <td>NaN</td>\n",
              "      <td>NaN</td>\n",
              "      <td>NaN</td>\n",
              "    </tr>\n",
              "    <tr>\n",
              "      <th>4</th>\n",
              "      <td>BALTIMORE</td>\n",
              "      <td>NaN</td>\n",
              "      <td>24 inch bins</td>\n",
              "      <td>HOWDEN TYPE</td>\n",
              "      <td>NaN</td>\n",
              "      <td>NaN</td>\n",
              "      <td>11/5/16</td>\n",
              "      <td>90.0</td>\n",
              "      <td>100.0</td>\n",
              "      <td>90.0</td>\n",
              "      <td>...</td>\n",
              "      <td>NaN</td>\n",
              "      <td>NaN</td>\n",
              "      <td>NaN</td>\n",
              "      <td>NaN</td>\n",
              "      <td>NaN</td>\n",
              "      <td>NaN</td>\n",
              "      <td>N</td>\n",
              "      <td>NaN</td>\n",
              "      <td>NaN</td>\n",
              "      <td>NaN</td>\n",
              "    </tr>\n",
              "  </tbody>\n",
              "</table>\n",
              "<p>5 rows × 26 columns</p>\n",
              "</div>\n",
              "      <button class=\"colab-df-convert\" onclick=\"convertToInteractive('df-b119d54b-8aac-40fb-bf8b-932e07deff5c')\"\n",
              "              title=\"Convert this dataframe to an interactive table.\"\n",
              "              style=\"display:none;\">\n",
              "        \n",
              "  <svg xmlns=\"http://www.w3.org/2000/svg\" height=\"24px\"viewBox=\"0 0 24 24\"\n",
              "       width=\"24px\">\n",
              "    <path d=\"M0 0h24v24H0V0z\" fill=\"none\"/>\n",
              "    <path d=\"M18.56 5.44l.94 2.06.94-2.06 2.06-.94-2.06-.94-.94-2.06-.94 2.06-2.06.94zm-11 1L8.5 8.5l.94-2.06 2.06-.94-2.06-.94L8.5 2.5l-.94 2.06-2.06.94zm10 10l.94 2.06.94-2.06 2.06-.94-2.06-.94-.94-2.06-.94 2.06-2.06.94z\"/><path d=\"M17.41 7.96l-1.37-1.37c-.4-.4-.92-.59-1.43-.59-.52 0-1.04.2-1.43.59L10.3 9.45l-7.72 7.72c-.78.78-.78 2.05 0 2.83L4 21.41c.39.39.9.59 1.41.59.51 0 1.02-.2 1.41-.59l7.78-7.78 2.81-2.81c.8-.78.8-2.07 0-2.86zM5.41 20L4 18.59l7.72-7.72 1.47 1.35L5.41 20z\"/>\n",
              "  </svg>\n",
              "      </button>\n",
              "      \n",
              "  <style>\n",
              "    .colab-df-container {\n",
              "      display:flex;\n",
              "      flex-wrap:wrap;\n",
              "      gap: 12px;\n",
              "    }\n",
              "\n",
              "    .colab-df-convert {\n",
              "      background-color: #E8F0FE;\n",
              "      border: none;\n",
              "      border-radius: 50%;\n",
              "      cursor: pointer;\n",
              "      display: none;\n",
              "      fill: #1967D2;\n",
              "      height: 32px;\n",
              "      padding: 0 0 0 0;\n",
              "      width: 32px;\n",
              "    }\n",
              "\n",
              "    .colab-df-convert:hover {\n",
              "      background-color: #E2EBFA;\n",
              "      box-shadow: 0px 1px 2px rgba(60, 64, 67, 0.3), 0px 1px 3px 1px rgba(60, 64, 67, 0.15);\n",
              "      fill: #174EA6;\n",
              "    }\n",
              "\n",
              "    [theme=dark] .colab-df-convert {\n",
              "      background-color: #3B4455;\n",
              "      fill: #D2E3FC;\n",
              "    }\n",
              "\n",
              "    [theme=dark] .colab-df-convert:hover {\n",
              "      background-color: #434B5C;\n",
              "      box-shadow: 0px 1px 3px 1px rgba(0, 0, 0, 0.15);\n",
              "      filter: drop-shadow(0px 1px 2px rgba(0, 0, 0, 0.3));\n",
              "      fill: #FFFFFF;\n",
              "    }\n",
              "  </style>\n",
              "\n",
              "      <script>\n",
              "        const buttonEl =\n",
              "          document.querySelector('#df-b119d54b-8aac-40fb-bf8b-932e07deff5c button.colab-df-convert');\n",
              "        buttonEl.style.display =\n",
              "          google.colab.kernel.accessAllowed ? 'block' : 'none';\n",
              "\n",
              "        async function convertToInteractive(key) {\n",
              "          const element = document.querySelector('#df-b119d54b-8aac-40fb-bf8b-932e07deff5c');\n",
              "          const dataTable =\n",
              "            await google.colab.kernel.invokeFunction('convertToInteractive',\n",
              "                                                     [key], {});\n",
              "          if (!dataTable) return;\n",
              "\n",
              "          const docLinkHtml = 'Like what you see? Visit the ' +\n",
              "            '<a target=\"_blank\" href=https://colab.research.google.com/notebooks/data_table.ipynb>data table notebook</a>'\n",
              "            + ' to learn more about interactive tables.';\n",
              "          element.innerHTML = '';\n",
              "          dataTable['output_type'] = 'display_data';\n",
              "          await google.colab.output.renderOutput(dataTable, element);\n",
              "          const docLink = document.createElement('div');\n",
              "          docLink.innerHTML = docLinkHtml;\n",
              "          element.appendChild(docLink);\n",
              "        }\n",
              "      </script>\n",
              "    </div>\n",
              "  </div>\n",
              "  "
            ]
          },
          "metadata": {},
          "execution_count": 31
        }
      ]
    },
    {
      "cell_type": "code",
      "source": [
        "df.info()"
      ],
      "metadata": {
        "colab": {
          "base_uri": "https://localhost:8080/"
        },
        "id": "03va1l2Vgw-d",
        "outputId": "b8183098-4964-4203-c427-a3be4a8f0fc0"
      },
      "execution_count": null,
      "outputs": [
        {
          "output_type": "stream",
          "name": "stdout",
          "text": [
            "<class 'pandas.core.frame.DataFrame'>\n",
            "RangeIndex: 1757 entries, 0 to 1756\n",
            "Data columns (total 26 columns):\n",
            " #   Column           Non-Null Count  Dtype  \n",
            "---  ------           --------------  -----  \n",
            " 0   City Name        1757 non-null   object \n",
            " 1   Type             45 non-null     object \n",
            " 2   Package          1757 non-null   object \n",
            " 3   Variety          1752 non-null   object \n",
            " 4   Sub Variety      296 non-null    object \n",
            " 5   Grade            0 non-null      float64\n",
            " 6   Date             1757 non-null   object \n",
            " 7   Low Price        1757 non-null   float64\n",
            " 8   High Price       1757 non-null   float64\n",
            " 9   Mostly Low       1654 non-null   float64\n",
            " 10  Mostly High      1654 non-null   float64\n",
            " 11  Origin           1754 non-null   object \n",
            " 12  Origin District  131 non-null    object \n",
            " 13  Item Size        1478 non-null   object \n",
            " 14  Color            1141 non-null   object \n",
            " 15  Environment      0 non-null      float64\n",
            " 16  Unit of Sale     162 non-null    object \n",
            " 17  Quality          0 non-null      float64\n",
            " 18  Condition        0 non-null      float64\n",
            " 19  Appearance       0 non-null      float64\n",
            " 20  Storage          0 non-null      float64\n",
            " 21  Crop             0 non-null      float64\n",
            " 22  Repack           1757 non-null   object \n",
            " 23  Trans Mode       0 non-null      float64\n",
            " 24  Unnamed: 24      0 non-null      float64\n",
            " 25  Unnamed: 25      103 non-null    object \n",
            "dtypes: float64(13), object(13)\n",
            "memory usage: 357.0+ KB\n"
          ]
        }
      ]
    },
    {
      "cell_type": "code",
      "source": [
        "#Check for missing values\n",
        "\n",
        "df.isnull().sum()"
      ],
      "metadata": {
        "colab": {
          "base_uri": "https://localhost:8080/"
        },
        "id": "Pte-dGmVQnK_",
        "outputId": "31cdac39-e3a4-4cbb-d5cc-bcfe79a379d5"
      },
      "execution_count": null,
      "outputs": [
        {
          "output_type": "execute_result",
          "data": {
            "text/plain": [
              "City Name             0\n",
              "Type               1712\n",
              "Package               0\n",
              "Variety               5\n",
              "Sub Variety        1461\n",
              "Grade              1757\n",
              "Date                  0\n",
              "Low Price             0\n",
              "High Price            0\n",
              "Mostly Low          103\n",
              "Mostly High         103\n",
              "Origin                3\n",
              "Origin District    1626\n",
              "Item Size           279\n",
              "Color               616\n",
              "Environment        1757\n",
              "Unit of Sale       1595\n",
              "Quality            1757\n",
              "Condition          1757\n",
              "Appearance         1757\n",
              "Storage            1757\n",
              "Crop               1757\n",
              "Repack                0\n",
              "Trans Mode         1757\n",
              "Unnamed: 24        1757\n",
              "Unnamed: 25        1654\n",
              "dtype: int64"
            ]
          },
          "metadata": {},
          "execution_count": 33
        }
      ]
    },
    {
      "cell_type": "markdown",
      "source": [
        "Select columns for price prediction and delete observations with variety null\n"
      ],
      "metadata": {
        "id": "rp0P0GDJg4c9"
      }
    },
    {
      "cell_type": "code",
      "source": [
        "columns = [\"City Name\",\"Package\",\"Variety\",\"Low Price\",\"High Price\",\"Date\"]\n",
        "df = df.loc[:,columns]\n",
        "df.dropna(subset=['Variety'],inplace=True)\n",
        "\n",
        "df.columns"
      ],
      "metadata": {
        "colab": {
          "base_uri": "https://localhost:8080/"
        },
        "id": "CzckLQyQg3qd",
        "outputId": "09fe8f05-9bbb-4fcf-d1bd-55a22395b8d6"
      },
      "execution_count": null,
      "outputs": [
        {
          "output_type": "execute_result",
          "data": {
            "text/plain": [
              "Index(['City Name', 'Package', 'Variety', 'Low Price', 'High Price', 'Date'], dtype='object')"
            ]
          },
          "metadata": {},
          "execution_count": 34
        }
      ]
    },
    {
      "cell_type": "code",
      "source": [
        "#Create month & days columns\n",
        "df[\"Date\"] = pd.to_datetime(df[\"Date\"])\n",
        "df['Month'] = df['Date'].dt.month\n",
        "\n",
        "month = pd.DatetimeIndex(df['Date']).month_name()\n",
        "df['Month_name'] = month\n",
        "\n",
        "day_of_year = pd.to_datetime(df['Date']).apply(lambda dt: (dt-datetime(dt.year,1,1)).days)\n",
        "df['Day_of_year'] = day_of_year\n",
        "df"
      ],
      "metadata": {
        "colab": {
          "base_uri": "https://localhost:8080/",
          "height": 424
        },
        "id": "px2BaQK6Qsvu",
        "outputId": "f79d77cc-8991-4fbe-d575-83242dbde668"
      },
      "execution_count": null,
      "outputs": [
        {
          "output_type": "execute_result",
          "data": {
            "text/plain": [
              "      City Name        Package      Variety  Low Price  High Price       Date  \\\n",
              "2     BALTIMORE   24 inch bins  HOWDEN TYPE     160.00      160.00 2016-09-24   \n",
              "3     BALTIMORE   24 inch bins  HOWDEN TYPE     160.00      160.00 2016-09-24   \n",
              "4     BALTIMORE   24 inch bins  HOWDEN TYPE      90.00      100.00 2016-11-05   \n",
              "5     BALTIMORE   24 inch bins  HOWDEN TYPE      90.00      100.00 2016-11-12   \n",
              "6     BALTIMORE   36 inch bins  HOWDEN TYPE     160.00      170.00 2016-09-24   \n",
              "...         ...            ...          ...        ...         ...        ...   \n",
              "1752  ST. LOUIS  22 lb cartons    MINIATURE      14.75       14.75 2016-09-30   \n",
              "1753  ST. LOUIS   36 inch bins    MINIATURE     275.00      275.00 2016-09-26   \n",
              "1754  ST. LOUIS   36 inch bins    MINIATURE     275.00      275.00 2016-09-27   \n",
              "1755  ST. LOUIS   36 inch bins    MINIATURE     275.00      275.00 2016-09-28   \n",
              "1756  ST. LOUIS   36 inch bins    MINIATURE     275.00      275.00 2016-09-29   \n",
              "\n",
              "      Month Month_name  Day_of_year  \n",
              "2         9  September          267  \n",
              "3         9  September          267  \n",
              "4        11   November          309  \n",
              "5        11   November          316  \n",
              "6         9  September          267  \n",
              "...     ...        ...          ...  \n",
              "1752      9  September          273  \n",
              "1753      9  September          269  \n",
              "1754      9  September          270  \n",
              "1755      9  September          271  \n",
              "1756      9  September          272  \n",
              "\n",
              "[1752 rows x 9 columns]"
            ],
            "text/html": [
              "\n",
              "  <div id=\"df-0448622f-00c5-4728-8c25-3373b207c053\">\n",
              "    <div class=\"colab-df-container\">\n",
              "      <div>\n",
              "<style scoped>\n",
              "    .dataframe tbody tr th:only-of-type {\n",
              "        vertical-align: middle;\n",
              "    }\n",
              "\n",
              "    .dataframe tbody tr th {\n",
              "        vertical-align: top;\n",
              "    }\n",
              "\n",
              "    .dataframe thead th {\n",
              "        text-align: right;\n",
              "    }\n",
              "</style>\n",
              "<table border=\"1\" class=\"dataframe\">\n",
              "  <thead>\n",
              "    <tr style=\"text-align: right;\">\n",
              "      <th></th>\n",
              "      <th>City Name</th>\n",
              "      <th>Package</th>\n",
              "      <th>Variety</th>\n",
              "      <th>Low Price</th>\n",
              "      <th>High Price</th>\n",
              "      <th>Date</th>\n",
              "      <th>Month</th>\n",
              "      <th>Month_name</th>\n",
              "      <th>Day_of_year</th>\n",
              "    </tr>\n",
              "  </thead>\n",
              "  <tbody>\n",
              "    <tr>\n",
              "      <th>2</th>\n",
              "      <td>BALTIMORE</td>\n",
              "      <td>24 inch bins</td>\n",
              "      <td>HOWDEN TYPE</td>\n",
              "      <td>160.00</td>\n",
              "      <td>160.00</td>\n",
              "      <td>2016-09-24</td>\n",
              "      <td>9</td>\n",
              "      <td>September</td>\n",
              "      <td>267</td>\n",
              "    </tr>\n",
              "    <tr>\n",
              "      <th>3</th>\n",
              "      <td>BALTIMORE</td>\n",
              "      <td>24 inch bins</td>\n",
              "      <td>HOWDEN TYPE</td>\n",
              "      <td>160.00</td>\n",
              "      <td>160.00</td>\n",
              "      <td>2016-09-24</td>\n",
              "      <td>9</td>\n",
              "      <td>September</td>\n",
              "      <td>267</td>\n",
              "    </tr>\n",
              "    <tr>\n",
              "      <th>4</th>\n",
              "      <td>BALTIMORE</td>\n",
              "      <td>24 inch bins</td>\n",
              "      <td>HOWDEN TYPE</td>\n",
              "      <td>90.00</td>\n",
              "      <td>100.00</td>\n",
              "      <td>2016-11-05</td>\n",
              "      <td>11</td>\n",
              "      <td>November</td>\n",
              "      <td>309</td>\n",
              "    </tr>\n",
              "    <tr>\n",
              "      <th>5</th>\n",
              "      <td>BALTIMORE</td>\n",
              "      <td>24 inch bins</td>\n",
              "      <td>HOWDEN TYPE</td>\n",
              "      <td>90.00</td>\n",
              "      <td>100.00</td>\n",
              "      <td>2016-11-12</td>\n",
              "      <td>11</td>\n",
              "      <td>November</td>\n",
              "      <td>316</td>\n",
              "    </tr>\n",
              "    <tr>\n",
              "      <th>6</th>\n",
              "      <td>BALTIMORE</td>\n",
              "      <td>36 inch bins</td>\n",
              "      <td>HOWDEN TYPE</td>\n",
              "      <td>160.00</td>\n",
              "      <td>170.00</td>\n",
              "      <td>2016-09-24</td>\n",
              "      <td>9</td>\n",
              "      <td>September</td>\n",
              "      <td>267</td>\n",
              "    </tr>\n",
              "    <tr>\n",
              "      <th>...</th>\n",
              "      <td>...</td>\n",
              "      <td>...</td>\n",
              "      <td>...</td>\n",
              "      <td>...</td>\n",
              "      <td>...</td>\n",
              "      <td>...</td>\n",
              "      <td>...</td>\n",
              "      <td>...</td>\n",
              "      <td>...</td>\n",
              "    </tr>\n",
              "    <tr>\n",
              "      <th>1752</th>\n",
              "      <td>ST. LOUIS</td>\n",
              "      <td>22 lb cartons</td>\n",
              "      <td>MINIATURE</td>\n",
              "      <td>14.75</td>\n",
              "      <td>14.75</td>\n",
              "      <td>2016-09-30</td>\n",
              "      <td>9</td>\n",
              "      <td>September</td>\n",
              "      <td>273</td>\n",
              "    </tr>\n",
              "    <tr>\n",
              "      <th>1753</th>\n",
              "      <td>ST. LOUIS</td>\n",
              "      <td>36 inch bins</td>\n",
              "      <td>MINIATURE</td>\n",
              "      <td>275.00</td>\n",
              "      <td>275.00</td>\n",
              "      <td>2016-09-26</td>\n",
              "      <td>9</td>\n",
              "      <td>September</td>\n",
              "      <td>269</td>\n",
              "    </tr>\n",
              "    <tr>\n",
              "      <th>1754</th>\n",
              "      <td>ST. LOUIS</td>\n",
              "      <td>36 inch bins</td>\n",
              "      <td>MINIATURE</td>\n",
              "      <td>275.00</td>\n",
              "      <td>275.00</td>\n",
              "      <td>2016-09-27</td>\n",
              "      <td>9</td>\n",
              "      <td>September</td>\n",
              "      <td>270</td>\n",
              "    </tr>\n",
              "    <tr>\n",
              "      <th>1755</th>\n",
              "      <td>ST. LOUIS</td>\n",
              "      <td>36 inch bins</td>\n",
              "      <td>MINIATURE</td>\n",
              "      <td>275.00</td>\n",
              "      <td>275.00</td>\n",
              "      <td>2016-09-28</td>\n",
              "      <td>9</td>\n",
              "      <td>September</td>\n",
              "      <td>271</td>\n",
              "    </tr>\n",
              "    <tr>\n",
              "      <th>1756</th>\n",
              "      <td>ST. LOUIS</td>\n",
              "      <td>36 inch bins</td>\n",
              "      <td>MINIATURE</td>\n",
              "      <td>275.00</td>\n",
              "      <td>275.00</td>\n",
              "      <td>2016-09-29</td>\n",
              "      <td>9</td>\n",
              "      <td>September</td>\n",
              "      <td>272</td>\n",
              "    </tr>\n",
              "  </tbody>\n",
              "</table>\n",
              "<p>1752 rows × 9 columns</p>\n",
              "</div>\n",
              "      <button class=\"colab-df-convert\" onclick=\"convertToInteractive('df-0448622f-00c5-4728-8c25-3373b207c053')\"\n",
              "              title=\"Convert this dataframe to an interactive table.\"\n",
              "              style=\"display:none;\">\n",
              "        \n",
              "  <svg xmlns=\"http://www.w3.org/2000/svg\" height=\"24px\"viewBox=\"0 0 24 24\"\n",
              "       width=\"24px\">\n",
              "    <path d=\"M0 0h24v24H0V0z\" fill=\"none\"/>\n",
              "    <path d=\"M18.56 5.44l.94 2.06.94-2.06 2.06-.94-2.06-.94-.94-2.06-.94 2.06-2.06.94zm-11 1L8.5 8.5l.94-2.06 2.06-.94-2.06-.94L8.5 2.5l-.94 2.06-2.06.94zm10 10l.94 2.06.94-2.06 2.06-.94-2.06-.94-.94-2.06-.94 2.06-2.06.94z\"/><path d=\"M17.41 7.96l-1.37-1.37c-.4-.4-.92-.59-1.43-.59-.52 0-1.04.2-1.43.59L10.3 9.45l-7.72 7.72c-.78.78-.78 2.05 0 2.83L4 21.41c.39.39.9.59 1.41.59.51 0 1.02-.2 1.41-.59l7.78-7.78 2.81-2.81c.8-.78.8-2.07 0-2.86zM5.41 20L4 18.59l7.72-7.72 1.47 1.35L5.41 20z\"/>\n",
              "  </svg>\n",
              "      </button>\n",
              "      \n",
              "  <style>\n",
              "    .colab-df-container {\n",
              "      display:flex;\n",
              "      flex-wrap:wrap;\n",
              "      gap: 12px;\n",
              "    }\n",
              "\n",
              "    .colab-df-convert {\n",
              "      background-color: #E8F0FE;\n",
              "      border: none;\n",
              "      border-radius: 50%;\n",
              "      cursor: pointer;\n",
              "      display: none;\n",
              "      fill: #1967D2;\n",
              "      height: 32px;\n",
              "      padding: 0 0 0 0;\n",
              "      width: 32px;\n",
              "    }\n",
              "\n",
              "    .colab-df-convert:hover {\n",
              "      background-color: #E2EBFA;\n",
              "      box-shadow: 0px 1px 2px rgba(60, 64, 67, 0.3), 0px 1px 3px 1px rgba(60, 64, 67, 0.15);\n",
              "      fill: #174EA6;\n",
              "    }\n",
              "\n",
              "    [theme=dark] .colab-df-convert {\n",
              "      background-color: #3B4455;\n",
              "      fill: #D2E3FC;\n",
              "    }\n",
              "\n",
              "    [theme=dark] .colab-df-convert:hover {\n",
              "      background-color: #434B5C;\n",
              "      box-shadow: 0px 1px 3px 1px rgba(0, 0, 0, 0.15);\n",
              "      filter: drop-shadow(0px 1px 2px rgba(0, 0, 0, 0.3));\n",
              "      fill: #FFFFFF;\n",
              "    }\n",
              "  </style>\n",
              "\n",
              "      <script>\n",
              "        const buttonEl =\n",
              "          document.querySelector('#df-0448622f-00c5-4728-8c25-3373b207c053 button.colab-df-convert');\n",
              "        buttonEl.style.display =\n",
              "          google.colab.kernel.accessAllowed ? 'block' : 'none';\n",
              "\n",
              "        async function convertToInteractive(key) {\n",
              "          const element = document.querySelector('#df-0448622f-00c5-4728-8c25-3373b207c053');\n",
              "          const dataTable =\n",
              "            await google.colab.kernel.invokeFunction('convertToInteractive',\n",
              "                                                     [key], {});\n",
              "          if (!dataTable) return;\n",
              "\n",
              "          const docLinkHtml = 'Like what you see? Visit the ' +\n",
              "            '<a target=\"_blank\" href=https://colab.research.google.com/notebooks/data_table.ipynb>data table notebook</a>'\n",
              "            + ' to learn more about interactive tables.';\n",
              "          element.innerHTML = '';\n",
              "          dataTable['output_type'] = 'display_data';\n",
              "          await google.colab.output.renderOutput(dataTable, element);\n",
              "          const docLink = document.createElement('div');\n",
              "          docLink.innerHTML = docLinkHtml;\n",
              "          element.appendChild(docLink);\n",
              "        }\n",
              "      </script>\n",
              "    </div>\n",
              "  </div>\n",
              "  "
            ]
          },
          "metadata": {},
          "execution_count": 35
        }
      ]
    },
    {
      "cell_type": "markdown",
      "source": [
        "### Average price of pumpkins in a month"
      ],
      "metadata": {
        "id": "jZwoqzDEiDNs"
      }
    },
    {
      "cell_type": "code",
      "source": [
        "#Determine average price of pumpkins\n",
        "avg_price = (df['Low Price'] + df['High Price']) / 2"
      ],
      "metadata": {
        "id": "EXmew05tTzdX"
      },
      "execution_count": null,
      "outputs": []
    },
    {
      "cell_type": "code",
      "source": [
        "df_pumpkins = pd.DataFrame({'City':df['City Name'],'Package': df['Package'],'Variety':df['Variety'],'Low Price': df['Low Price'],'High Price': df['High Price'], 'Price': avg_price,'Month': df['Month'],'Month_name':df['Month_name'],\"Day of year\":df['Day_of_year']})\n",
        "\n",
        "df_pumpkins.head()"
      ],
      "metadata": {
        "colab": {
          "base_uri": "https://localhost:8080/",
          "height": 206
        },
        "id": "PaP69Xujji97",
        "outputId": "f2272851-b62b-4649-f34b-311082d066ea"
      },
      "execution_count": null,
      "outputs": [
        {
          "output_type": "execute_result",
          "data": {
            "text/plain": [
              "        City       Package      Variety  Low Price  High Price  Price  Month  \\\n",
              "2  BALTIMORE  24 inch bins  HOWDEN TYPE      160.0       160.0  160.0      9   \n",
              "3  BALTIMORE  24 inch bins  HOWDEN TYPE      160.0       160.0  160.0      9   \n",
              "4  BALTIMORE  24 inch bins  HOWDEN TYPE       90.0       100.0   95.0     11   \n",
              "5  BALTIMORE  24 inch bins  HOWDEN TYPE       90.0       100.0   95.0     11   \n",
              "6  BALTIMORE  36 inch bins  HOWDEN TYPE      160.0       170.0  165.0      9   \n",
              "\n",
              "  Month_name  Day of year  \n",
              "2  September          267  \n",
              "3  September          267  \n",
              "4   November          309  \n",
              "5   November          316  \n",
              "6  September          267  "
            ],
            "text/html": [
              "\n",
              "  <div id=\"df-661cf9d0-8b4b-4648-9a49-1f3187b1810c\">\n",
              "    <div class=\"colab-df-container\">\n",
              "      <div>\n",
              "<style scoped>\n",
              "    .dataframe tbody tr th:only-of-type {\n",
              "        vertical-align: middle;\n",
              "    }\n",
              "\n",
              "    .dataframe tbody tr th {\n",
              "        vertical-align: top;\n",
              "    }\n",
              "\n",
              "    .dataframe thead th {\n",
              "        text-align: right;\n",
              "    }\n",
              "</style>\n",
              "<table border=\"1\" class=\"dataframe\">\n",
              "  <thead>\n",
              "    <tr style=\"text-align: right;\">\n",
              "      <th></th>\n",
              "      <th>City</th>\n",
              "      <th>Package</th>\n",
              "      <th>Variety</th>\n",
              "      <th>Low Price</th>\n",
              "      <th>High Price</th>\n",
              "      <th>Price</th>\n",
              "      <th>Month</th>\n",
              "      <th>Month_name</th>\n",
              "      <th>Day of year</th>\n",
              "    </tr>\n",
              "  </thead>\n",
              "  <tbody>\n",
              "    <tr>\n",
              "      <th>2</th>\n",
              "      <td>BALTIMORE</td>\n",
              "      <td>24 inch bins</td>\n",
              "      <td>HOWDEN TYPE</td>\n",
              "      <td>160.0</td>\n",
              "      <td>160.0</td>\n",
              "      <td>160.0</td>\n",
              "      <td>9</td>\n",
              "      <td>September</td>\n",
              "      <td>267</td>\n",
              "    </tr>\n",
              "    <tr>\n",
              "      <th>3</th>\n",
              "      <td>BALTIMORE</td>\n",
              "      <td>24 inch bins</td>\n",
              "      <td>HOWDEN TYPE</td>\n",
              "      <td>160.0</td>\n",
              "      <td>160.0</td>\n",
              "      <td>160.0</td>\n",
              "      <td>9</td>\n",
              "      <td>September</td>\n",
              "      <td>267</td>\n",
              "    </tr>\n",
              "    <tr>\n",
              "      <th>4</th>\n",
              "      <td>BALTIMORE</td>\n",
              "      <td>24 inch bins</td>\n",
              "      <td>HOWDEN TYPE</td>\n",
              "      <td>90.0</td>\n",
              "      <td>100.0</td>\n",
              "      <td>95.0</td>\n",
              "      <td>11</td>\n",
              "      <td>November</td>\n",
              "      <td>309</td>\n",
              "    </tr>\n",
              "    <tr>\n",
              "      <th>5</th>\n",
              "      <td>BALTIMORE</td>\n",
              "      <td>24 inch bins</td>\n",
              "      <td>HOWDEN TYPE</td>\n",
              "      <td>90.0</td>\n",
              "      <td>100.0</td>\n",
              "      <td>95.0</td>\n",
              "      <td>11</td>\n",
              "      <td>November</td>\n",
              "      <td>316</td>\n",
              "    </tr>\n",
              "    <tr>\n",
              "      <th>6</th>\n",
              "      <td>BALTIMORE</td>\n",
              "      <td>36 inch bins</td>\n",
              "      <td>HOWDEN TYPE</td>\n",
              "      <td>160.0</td>\n",
              "      <td>170.0</td>\n",
              "      <td>165.0</td>\n",
              "      <td>9</td>\n",
              "      <td>September</td>\n",
              "      <td>267</td>\n",
              "    </tr>\n",
              "  </tbody>\n",
              "</table>\n",
              "</div>\n",
              "      <button class=\"colab-df-convert\" onclick=\"convertToInteractive('df-661cf9d0-8b4b-4648-9a49-1f3187b1810c')\"\n",
              "              title=\"Convert this dataframe to an interactive table.\"\n",
              "              style=\"display:none;\">\n",
              "        \n",
              "  <svg xmlns=\"http://www.w3.org/2000/svg\" height=\"24px\"viewBox=\"0 0 24 24\"\n",
              "       width=\"24px\">\n",
              "    <path d=\"M0 0h24v24H0V0z\" fill=\"none\"/>\n",
              "    <path d=\"M18.56 5.44l.94 2.06.94-2.06 2.06-.94-2.06-.94-.94-2.06-.94 2.06-2.06.94zm-11 1L8.5 8.5l.94-2.06 2.06-.94-2.06-.94L8.5 2.5l-.94 2.06-2.06.94zm10 10l.94 2.06.94-2.06 2.06-.94-2.06-.94-.94-2.06-.94 2.06-2.06.94z\"/><path d=\"M17.41 7.96l-1.37-1.37c-.4-.4-.92-.59-1.43-.59-.52 0-1.04.2-1.43.59L10.3 9.45l-7.72 7.72c-.78.78-.78 2.05 0 2.83L4 21.41c.39.39.9.59 1.41.59.51 0 1.02-.2 1.41-.59l7.78-7.78 2.81-2.81c.8-.78.8-2.07 0-2.86zM5.41 20L4 18.59l7.72-7.72 1.47 1.35L5.41 20z\"/>\n",
              "  </svg>\n",
              "      </button>\n",
              "      \n",
              "  <style>\n",
              "    .colab-df-container {\n",
              "      display:flex;\n",
              "      flex-wrap:wrap;\n",
              "      gap: 12px;\n",
              "    }\n",
              "\n",
              "    .colab-df-convert {\n",
              "      background-color: #E8F0FE;\n",
              "      border: none;\n",
              "      border-radius: 50%;\n",
              "      cursor: pointer;\n",
              "      display: none;\n",
              "      fill: #1967D2;\n",
              "      height: 32px;\n",
              "      padding: 0 0 0 0;\n",
              "      width: 32px;\n",
              "    }\n",
              "\n",
              "    .colab-df-convert:hover {\n",
              "      background-color: #E2EBFA;\n",
              "      box-shadow: 0px 1px 2px rgba(60, 64, 67, 0.3), 0px 1px 3px 1px rgba(60, 64, 67, 0.15);\n",
              "      fill: #174EA6;\n",
              "    }\n",
              "\n",
              "    [theme=dark] .colab-df-convert {\n",
              "      background-color: #3B4455;\n",
              "      fill: #D2E3FC;\n",
              "    }\n",
              "\n",
              "    [theme=dark] .colab-df-convert:hover {\n",
              "      background-color: #434B5C;\n",
              "      box-shadow: 0px 1px 3px 1px rgba(0, 0, 0, 0.15);\n",
              "      filter: drop-shadow(0px 1px 2px rgba(0, 0, 0, 0.3));\n",
              "      fill: #FFFFFF;\n",
              "    }\n",
              "  </style>\n",
              "\n",
              "      <script>\n",
              "        const buttonEl =\n",
              "          document.querySelector('#df-661cf9d0-8b4b-4648-9a49-1f3187b1810c button.colab-df-convert');\n",
              "        buttonEl.style.display =\n",
              "          google.colab.kernel.accessAllowed ? 'block' : 'none';\n",
              "\n",
              "        async function convertToInteractive(key) {\n",
              "          const element = document.querySelector('#df-661cf9d0-8b4b-4648-9a49-1f3187b1810c');\n",
              "          const dataTable =\n",
              "            await google.colab.kernel.invokeFunction('convertToInteractive',\n",
              "                                                     [key], {});\n",
              "          if (!dataTable) return;\n",
              "\n",
              "          const docLinkHtml = 'Like what you see? Visit the ' +\n",
              "            '<a target=\"_blank\" href=https://colab.research.google.com/notebooks/data_table.ipynb>data table notebook</a>'\n",
              "            + ' to learn more about interactive tables.';\n",
              "          element.innerHTML = '';\n",
              "          dataTable['output_type'] = 'display_data';\n",
              "          await google.colab.output.renderOutput(dataTable, element);\n",
              "          const docLink = document.createElement('div');\n",
              "          docLink.innerHTML = docLinkHtml;\n",
              "          element.appendChild(docLink);\n",
              "        }\n",
              "      </script>\n",
              "    </div>\n",
              "  </div>\n",
              "  "
            ]
          },
          "metadata": {},
          "execution_count": 37
        }
      ]
    },
    {
      "cell_type": "markdown",
      "source": [
        "### Only get pumpkins priced by the bushel and normalize pricing\n",
        "If you look at the Package column, pumpkins are sold in many different configurations. Some are sold in '1 1/9 bushel' measures, and some in '1/2 bushel' measures, some per pumpkin, some per pound, and some in big boxes with varying widths."
      ],
      "metadata": {
        "id": "2hpOtDLEjKRi"
      }
    },
    {
      "cell_type": "code",
      "source": [
        "df_pumpkins = df_pumpkins[df_pumpkins['Package'].str.contains('bushel',case=True,regex=True)]\n",
        "\n",
        "df_pumpkins.loc[df['Package'].str.contains('1 1/9'),'Price'] = avg_price/1.1\n",
        "df_pumpkins.loc[df['Package'].str.contains('1/2'),'Price'] = avg_price*2\n",
        "\n",
        "df_pumpkins.tail()"
      ],
      "metadata": {
        "colab": {
          "base_uri": "https://localhost:8080/",
          "height": 206
        },
        "id": "5lW2ea_iUDQQ",
        "outputId": "38af9621-dc79-4d56-c4e4-22019b8d8efe"
      },
      "execution_count": null,
      "outputs": [
        {
          "output_type": "execute_result",
          "data": {
            "text/plain": [
              "           City             Package    Variety  Low Price  High Price  Price  \\\n",
              "1738  ST. LOUIS  1/2 bushel cartons  MINIATURE      15.00        15.0  30.00   \n",
              "1739  ST. LOUIS  1/2 bushel cartons  MINIATURE      13.75        15.0  28.75   \n",
              "1740  ST. LOUIS  1/2 bushel cartons  MINIATURE      10.75        15.0  25.75   \n",
              "1741  ST. LOUIS  1/2 bushel cartons  MINIATURE      12.00        12.0  24.00   \n",
              "1742  ST. LOUIS  1/2 bushel cartons  MINIATURE      12.00        12.0  24.00   \n",
              "\n",
              "      Month Month_name  Day of year  \n",
              "1738      9  September          273  \n",
              "1739      9  September          273  \n",
              "1740      9  September          273  \n",
              "1741      9  September          273  \n",
              "1742      9  September          273  "
            ],
            "text/html": [
              "\n",
              "  <div id=\"df-7d5e2ebc-1a4c-4e58-9b37-422839e87ec1\">\n",
              "    <div class=\"colab-df-container\">\n",
              "      <div>\n",
              "<style scoped>\n",
              "    .dataframe tbody tr th:only-of-type {\n",
              "        vertical-align: middle;\n",
              "    }\n",
              "\n",
              "    .dataframe tbody tr th {\n",
              "        vertical-align: top;\n",
              "    }\n",
              "\n",
              "    .dataframe thead th {\n",
              "        text-align: right;\n",
              "    }\n",
              "</style>\n",
              "<table border=\"1\" class=\"dataframe\">\n",
              "  <thead>\n",
              "    <tr style=\"text-align: right;\">\n",
              "      <th></th>\n",
              "      <th>City</th>\n",
              "      <th>Package</th>\n",
              "      <th>Variety</th>\n",
              "      <th>Low Price</th>\n",
              "      <th>High Price</th>\n",
              "      <th>Price</th>\n",
              "      <th>Month</th>\n",
              "      <th>Month_name</th>\n",
              "      <th>Day of year</th>\n",
              "    </tr>\n",
              "  </thead>\n",
              "  <tbody>\n",
              "    <tr>\n",
              "      <th>1738</th>\n",
              "      <td>ST. LOUIS</td>\n",
              "      <td>1/2 bushel cartons</td>\n",
              "      <td>MINIATURE</td>\n",
              "      <td>15.00</td>\n",
              "      <td>15.0</td>\n",
              "      <td>30.00</td>\n",
              "      <td>9</td>\n",
              "      <td>September</td>\n",
              "      <td>273</td>\n",
              "    </tr>\n",
              "    <tr>\n",
              "      <th>1739</th>\n",
              "      <td>ST. LOUIS</td>\n",
              "      <td>1/2 bushel cartons</td>\n",
              "      <td>MINIATURE</td>\n",
              "      <td>13.75</td>\n",
              "      <td>15.0</td>\n",
              "      <td>28.75</td>\n",
              "      <td>9</td>\n",
              "      <td>September</td>\n",
              "      <td>273</td>\n",
              "    </tr>\n",
              "    <tr>\n",
              "      <th>1740</th>\n",
              "      <td>ST. LOUIS</td>\n",
              "      <td>1/2 bushel cartons</td>\n",
              "      <td>MINIATURE</td>\n",
              "      <td>10.75</td>\n",
              "      <td>15.0</td>\n",
              "      <td>25.75</td>\n",
              "      <td>9</td>\n",
              "      <td>September</td>\n",
              "      <td>273</td>\n",
              "    </tr>\n",
              "    <tr>\n",
              "      <th>1741</th>\n",
              "      <td>ST. LOUIS</td>\n",
              "      <td>1/2 bushel cartons</td>\n",
              "      <td>MINIATURE</td>\n",
              "      <td>12.00</td>\n",
              "      <td>12.0</td>\n",
              "      <td>24.00</td>\n",
              "      <td>9</td>\n",
              "      <td>September</td>\n",
              "      <td>273</td>\n",
              "    </tr>\n",
              "    <tr>\n",
              "      <th>1742</th>\n",
              "      <td>ST. LOUIS</td>\n",
              "      <td>1/2 bushel cartons</td>\n",
              "      <td>MINIATURE</td>\n",
              "      <td>12.00</td>\n",
              "      <td>12.0</td>\n",
              "      <td>24.00</td>\n",
              "      <td>9</td>\n",
              "      <td>September</td>\n",
              "      <td>273</td>\n",
              "    </tr>\n",
              "  </tbody>\n",
              "</table>\n",
              "</div>\n",
              "      <button class=\"colab-df-convert\" onclick=\"convertToInteractive('df-7d5e2ebc-1a4c-4e58-9b37-422839e87ec1')\"\n",
              "              title=\"Convert this dataframe to an interactive table.\"\n",
              "              style=\"display:none;\">\n",
              "        \n",
              "  <svg xmlns=\"http://www.w3.org/2000/svg\" height=\"24px\"viewBox=\"0 0 24 24\"\n",
              "       width=\"24px\">\n",
              "    <path d=\"M0 0h24v24H0V0z\" fill=\"none\"/>\n",
              "    <path d=\"M18.56 5.44l.94 2.06.94-2.06 2.06-.94-2.06-.94-.94-2.06-.94 2.06-2.06.94zm-11 1L8.5 8.5l.94-2.06 2.06-.94-2.06-.94L8.5 2.5l-.94 2.06-2.06.94zm10 10l.94 2.06.94-2.06 2.06-.94-2.06-.94-.94-2.06-.94 2.06-2.06.94z\"/><path d=\"M17.41 7.96l-1.37-1.37c-.4-.4-.92-.59-1.43-.59-.52 0-1.04.2-1.43.59L10.3 9.45l-7.72 7.72c-.78.78-.78 2.05 0 2.83L4 21.41c.39.39.9.59 1.41.59.51 0 1.02-.2 1.41-.59l7.78-7.78 2.81-2.81c.8-.78.8-2.07 0-2.86zM5.41 20L4 18.59l7.72-7.72 1.47 1.35L5.41 20z\"/>\n",
              "  </svg>\n",
              "      </button>\n",
              "      \n",
              "  <style>\n",
              "    .colab-df-container {\n",
              "      display:flex;\n",
              "      flex-wrap:wrap;\n",
              "      gap: 12px;\n",
              "    }\n",
              "\n",
              "    .colab-df-convert {\n",
              "      background-color: #E8F0FE;\n",
              "      border: none;\n",
              "      border-radius: 50%;\n",
              "      cursor: pointer;\n",
              "      display: none;\n",
              "      fill: #1967D2;\n",
              "      height: 32px;\n",
              "      padding: 0 0 0 0;\n",
              "      width: 32px;\n",
              "    }\n",
              "\n",
              "    .colab-df-convert:hover {\n",
              "      background-color: #E2EBFA;\n",
              "      box-shadow: 0px 1px 2px rgba(60, 64, 67, 0.3), 0px 1px 3px 1px rgba(60, 64, 67, 0.15);\n",
              "      fill: #174EA6;\n",
              "    }\n",
              "\n",
              "    [theme=dark] .colab-df-convert {\n",
              "      background-color: #3B4455;\n",
              "      fill: #D2E3FC;\n",
              "    }\n",
              "\n",
              "    [theme=dark] .colab-df-convert:hover {\n",
              "      background-color: #434B5C;\n",
              "      box-shadow: 0px 1px 3px 1px rgba(0, 0, 0, 0.15);\n",
              "      filter: drop-shadow(0px 1px 2px rgba(0, 0, 0, 0.3));\n",
              "      fill: #FFFFFF;\n",
              "    }\n",
              "  </style>\n",
              "\n",
              "      <script>\n",
              "        const buttonEl =\n",
              "          document.querySelector('#df-7d5e2ebc-1a4c-4e58-9b37-422839e87ec1 button.colab-df-convert');\n",
              "        buttonEl.style.display =\n",
              "          google.colab.kernel.accessAllowed ? 'block' : 'none';\n",
              "\n",
              "        async function convertToInteractive(key) {\n",
              "          const element = document.querySelector('#df-7d5e2ebc-1a4c-4e58-9b37-422839e87ec1');\n",
              "          const dataTable =\n",
              "            await google.colab.kernel.invokeFunction('convertToInteractive',\n",
              "                                                     [key], {});\n",
              "          if (!dataTable) return;\n",
              "\n",
              "          const docLinkHtml = 'Like what you see? Visit the ' +\n",
              "            '<a target=\"_blank\" href=https://colab.research.google.com/notebooks/data_table.ipynb>data table notebook</a>'\n",
              "            + ' to learn more about interactive tables.';\n",
              "          element.innerHTML = '';\n",
              "          dataTable['output_type'] = 'display_data';\n",
              "          await google.colab.output.renderOutput(dataTable, element);\n",
              "          const docLink = document.createElement('div');\n",
              "          docLink.innerHTML = docLinkHtml;\n",
              "          element.appendChild(docLink);\n",
              "        }\n",
              "      </script>\n",
              "    </div>\n",
              "  </div>\n",
              "  "
            ]
          },
          "metadata": {},
          "execution_count": 38
        }
      ]
    },
    {
      "cell_type": "markdown",
      "source": [
        "### Visualization"
      ],
      "metadata": {
        "id": "icL86IJoWgTc"
      }
    },
    {
      "cell_type": "code",
      "source": [
        "sns.set_palette(\"rainbow\")\n",
        "fig,ax = plt.subplots(figsize=(8,5))\n",
        "\n",
        "sns.barplot(data = df_pumpkins,x=\"Month_name\",y=\"Price\",errorbar=None,order = [\"January\",\"February\",\"March\",\"April\",\"May\",\"June\",\"July\",\"August\",\"September\",\"October\",\"November\",\"December\"])\n",
        "ax.set_xticklabels(ax.get_xticklabels(), rotation=40, ha=\"right\",fontsize = '7')\n",
        "\n",
        "ax.title.set_text(\"Pumpkins Price by Month\")"
      ],
      "metadata": {
        "colab": {
          "base_uri": "https://localhost:8080/",
          "height": 516
        },
        "id": "5KgMnR2ejtF5",
        "outputId": "38d79229-a38b-41aa-8198-3ec938165621"
      },
      "execution_count": null,
      "outputs": [
        {
          "output_type": "display_data",
          "data": {
            "text/plain": [
              "<Figure size 800x500 with 1 Axes>"
            ],
            "image/png": "[encoded data removed]"
          },
          "metadata": {}
        }
      ]
    },
    {
      "cell_type": "code",
      "source": [
        "#Correlation between Price & Day of the year\n",
        "\n",
        "sns.scatterplot(data=df_pumpkins, x='Day of year', y=\"Price\")\n"
      ],
      "metadata": {
        "colab": {
          "base_uri": "https://localhost:8080/",
          "height": 466
        },
        "id": "Y-wi3E2DdnnG",
        "outputId": "df8a2708-0d9a-456d-c9ba-a9f3b92f2e50"
      },
      "execution_count": null,
      "outputs": [
        {
          "output_type": "execute_result",
          "data": {
            "text/plain": [
              "<Axes: xlabel='Day of year', ylabel='Price'>"
            ]
          },
          "metadata": {},
          "execution_count": 40
        },
        {
          "output_type": "display_data",
          "data": {
            "text/plain": [
              "<Figure size 640x480 with 1 Axes>"
            ],
            "image/png": "[encoded data removed]"
          },
          "metadata": {}
        }
      ]
    },
    {
      "cell_type": "code",
      "source": [
        "sns.scatterplot(data=df_pumpkins, x='Day of year', y=\"Price\",hue=\"Variety\",palette=\"flare\",style=\"Variety\")"
      ],
      "metadata": {
        "colab": {
          "base_uri": "https://localhost:8080/",
          "height": 466
        },
        "id": "B-u3CVaVhG5W",
        "outputId": "53f0a35f-5a22-448c-efa7-05c6f73b6059"
      },
      "execution_count": null,
      "outputs": [
        {
          "output_type": "execute_result",
          "data": {
            "text/plain": [
              "<Axes: xlabel='Day of year', ylabel='Price'>"
            ]
          },
          "metadata": {},
          "execution_count": 41
        },
        {
          "output_type": "display_data",
          "data": {
            "text/plain": [
              "<Figure size 640x480 with 1 Axes>"
            ],
            "image/png": "[encoded data removed]"
          },
          "metadata": {}
        }
      ]
    },
    {
      "cell_type": "code",
      "source": [
        "fig,ax = plt.subplots(figsize=(8,5))\n",
        "\n",
        "sns.barplot(data = df_pumpkins,x=\"Variety\",y=\"Price\",errorbar=None)\n",
        "\n",
        "ax.title.set_text(\"Pumpkins Price by Variety\")"
      ],
      "metadata": {
        "colab": {
          "base_uri": "https://localhost:8080/",
          "height": 487
        },
        "id": "p8Vkr52GiVOs",
        "outputId": "d3824516-5f08-4656-9df1-25d43024a09c"
      },
      "execution_count": null,
      "outputs": [
        {
          "output_type": "display_data",
          "data": {
            "text/plain": [
              "<Figure size 800x500 with 1 Axes>"
            ],
            "image/png": "[encoded data removed]"
          },
          "metadata": {}
        }
      ]
    },
    {
      "cell_type": "markdown",
      "source": [
        "### Linear regression with Day of Year\n",
        "\n"
      ],
      "metadata": {
        "id": "vIw8qFlHrg4d"
      }
    },
    {
      "cell_type": "code",
      "source": [
        "X = df_pumpkins['Day of year'].to_numpy().reshape(-1,1)\n",
        "y = df_pumpkins['Price']"
      ],
      "metadata": {
        "id": "DHE02mzcywJj"
      },
      "execution_count": null,
      "outputs": []
    },
    {
      "cell_type": "code",
      "source": [
        "X_train,X_test,y_train,y_test = train_test_split(X,y,test_size=0.2,random_state=0)"
      ],
      "metadata": {
        "id": "Q_qt6KvAr12w"
      },
      "execution_count": null,
      "outputs": []
    },
    {
      "cell_type": "code",
      "source": [
        "lreg = LinearRegression()\n",
        "\n",
        "lreg.fit(X_train,y_train)"
      ],
      "metadata": {
        "colab": {
          "base_uri": "https://localhost:8080/",
          "height": 75
        },
        "id": "36CmI_t9r_z6",
        "outputId": "3275e0da-ede2-4b05-b8b5-4bbb15051e10"
      },
      "execution_count": null,
      "outputs": [
        {
          "output_type": "execute_result",
          "data": {
            "text/plain": [
              "LinearRegression()"
            ],
            "text/html": [
              "<style>#sk-container-id-4 {color: black;background-color: white;}#sk-container-id-4 pre{padding: 0;}#sk-container-id-4 div.sk-toggleable {background-color: white;}#sk-container-id-4 label.sk-toggleable__label {cursor: pointer;display: block;width: 100%;margin-bottom: 0;padding: 0.3em;box-sizing: border-box;text-align: center;}#sk-container-id-4 label.sk-toggleable__label-arrow:before {content: \"▸\";float: left;margin-right: 0.25em;color: #696969;}#sk-container-id-4 label.sk-toggleable__label-arrow:hover:before {color: black;}#sk-container-id-4 div.sk-estimator:hover label.sk-toggleable__label-arrow:before {color: black;}#sk-container-id-4 div.sk-toggleable__content {max-height: 0;max-width: 0;overflow: hidden;text-align: left;background-color: #f0f8ff;}#sk-container-id-4 div.sk-toggleable__content pre {margin: 0.2em;color: black;border-radius: 0.25em;background-color: #f0f8ff;}#sk-container-id-4 input.sk-toggleable__control:checked~div.sk-toggleable__content {max-height: 200px;max-width: 100%;overflow: auto;}#sk-container-id-4 input.sk-toggleable__control:checked~label.sk-toggleable__label-arrow:before {content: \"▾\";}#sk-container-id-4 div.sk-estimator input.sk-toggleable__control:checked~label.sk-toggleable__label {background-color: #d4ebff;}#sk-container-id-4 div.sk-label input.sk-toggleable__control:checked~label.sk-toggleable__label {background-color: #d4ebff;}#sk-container-id-4 input.sk-hidden--visually {border: 0;clip: rect(1px 1px 1px 1px);clip: rect(1px, 1px, 1px, 1px);height: 1px;margin: -1px;overflow: hidden;padding: 0;position: absolute;width: 1px;}#sk-container-id-4 div.sk-estimator {font-family: monospace;background-color: #f0f8ff;border: 1px dotted black;border-radius: 0.25em;box-sizing: border-box;margin-bottom: 0.5em;}#sk-container-id-4 div.sk-estimator:hover {background-color: #d4ebff;}#sk-container-id-4 div.sk-parallel-item::after {content: \"\";width: 100%;border-bottom: 1px solid gray;flex-grow: 1;}#sk-container-id-4 div.sk-label:hover label.sk-toggleable__label {background-color: #d4ebff;}#sk-container-id-4 div.sk-serial::before {content: \"\";position: absolute;border-left: 1px solid gray;box-sizing: border-box;top: 0;bottom: 0;left: 50%;z-index: 0;}#sk-container-id-4 div.sk-serial {display: flex;flex-direction: column;align-items: center;background-color: white;padding-right: 0.2em;padding-left: 0.2em;position: relative;}#sk-container-id-4 div.sk-item {position: relative;z-index: 1;}#sk-container-id-4 div.sk-parallel {display: flex;align-items: stretch;justify-content: center;background-color: white;position: relative;}#sk-container-id-4 div.sk-item::before, #sk-container-id-4 div.sk-parallel-item::before {content: \"\";position: absolute;border-left: 1px solid gray;box-sizing: border-box;top: 0;bottom: 0;left: 50%;z-index: -1;}#sk-container-id-4 div.sk-parallel-item {display: flex;flex-direction: column;z-index: 1;position: relative;background-color: white;}#sk-container-id-4 div.sk-parallel-item:first-child::after {align-self: flex-end;width: 50%;}#sk-container-id-4 div.sk-parallel-item:last-child::after {align-self: flex-start;width: 50%;}#sk-container-id-4 div.sk-parallel-item:only-child::after {width: 0;}#sk-container-id-4 div.sk-dashed-wrapped {border: 1px dashed gray;margin: 0 0.4em 0.5em 0.4em;box-sizing: border-box;padding-bottom: 0.4em;background-color: white;}#sk-container-id-4 div.sk-label label {font-family: monospace;font-weight: bold;display: inline-block;line-height: 1.2em;}#sk-container-id-4 div.sk-label-container {text-align: center;}#sk-container-id-4 div.sk-container {/* jupyter's `normalize.less` sets `[hidden] { display: none; }` but bootstrap.min.css set `[hidden] { display: none !important; }` so we also need the `!important` here to be able to override the default hidden behavior on the sphinx rendered scikit-learn.org. See: https://github.com/scikit-learn/scikit-learn/issues/21755 */display: inline-block !important;position: relative;}#sk-container-id-4 div.sk-text-repr-fallback {display: none;}</style><div id=\"sk-container-id-4\" class=\"sk-top-container\"><div class=\"sk-text-repr-fallback\"><pre>LinearRegression()</pre><b>In a Jupyter environment, please rerun this cell to show the HTML representation or trust the notebook. <br />On GitHub, the HTML representation is unable to render, please try loading this page with nbviewer.org.</b></div><div class=\"sk-container\" hidden><div class=\"sk-item\"><div class=\"sk-estimator sk-toggleable\"><input class=\"sk-toggleable__control sk-hidden--visually\" id=\"sk-estimator-id-8\" type=\"checkbox\" checked><label for=\"sk-estimator-id-8\" class=\"sk-toggleable__label sk-toggleable__label-arrow\">LinearRegression</label><div class=\"sk-toggleable__content\"><pre>LinearRegression()</pre></div></div></div></div></div>"
            ]
          },
          "metadata": {},
          "execution_count": 45
        }
      ]
    },
    {
      "cell_type": "code",
      "source": [
        "#evaluating model\n",
        "\n",
        "pred = lreg.predict(X_test)\n",
        "\n",
        "mse = np.sqrt(mean_squared_error(y_test,pred))\n",
        "print(f'Mean error: {mse:3.3} ({mse/np.mean(pred)*100:3.3}%)')\n",
        "\n",
        "score = lreg.score(X_train,y_train)\n",
        "print('Model determination: ', score)"
      ],
      "metadata": {
        "colab": {
          "base_uri": "https://localhost:8080/"
        },
        "id": "vtMual_WsVqk",
        "outputId": "27342274-aa23-417d-8229-ecf6ad0e602d"
      },
      "execution_count": null,
      "outputs": [
        {
          "output_type": "stream",
          "name": "stdout",
          "text": [
            "Mean error: 10.6 (37.9%)\n",
            "Model determination:  0.021940482889036717\n"
          ]
        }
      ]
    },
    {
      "cell_type": "markdown",
      "source": [
        "The model has a big error score so it won´t predict well the values.\n",
        "Another metric for evaluating the model is Model determination that can be between 0 and 1. The more closer to 1 is,the better the model fits the data.\n",
        "In our case is 0.4044 so is not good."
      ],
      "metadata": {
        "id": "dh-ydVh7jC8O"
      }
    },
    {
      "cell_type": "code",
      "source": [
        "plt.scatter(X_test,y_test)\n",
        "plt.plot(X_test,pred)\n",
        "plt.title(\"Test data together VS Regression line \")\n"
      ],
      "metadata": {
        "colab": {
          "base_uri": "https://localhost:8080/",
          "height": 469
        },
        "id": "X6KwJHL7su_8",
        "outputId": "76f98020-cc08-4c08-a751-24e44af5e449"
      },
      "execution_count": null,
      "outputs": [
        {
          "output_type": "execute_result",
          "data": {
            "text/plain": [
              "Text(0.5, 1.0, 'Test data together VS Regression line ')"
            ]
          },
          "metadata": {},
          "execution_count": 47
        },
        {
          "output_type": "display_data",
          "data": {
            "text/plain": [
              "<Figure size 640x480 with 1 Axes>"
            ],
            "image/png": "[encoded data removed]"
          },
          "metadata": {}
        }
      ]
    },
    {
      "cell_type": "markdown",
      "source": [
        "## Linear Regression with Variety"
      ],
      "metadata": {
        "id": "KPBEpxGj5YyO"
      }
    },
    {
      "cell_type": "markdown",
      "source": [
        "To take variety into account, we first need to convert it to numeric form, or encode. There are several way we can do it:\n",
        "\n",
        "*  Simple numeric encoding that will build a table of different varieties, and then replace variety name by an index in that table. This is not the best idea for linear regression, because linear regression takes the numeric value of the index into account, and the numeric value is likely not to correlate numerically with the price.\n",
        "*   One-hot encoding, which will replace Variety column by 4 different columns, one for each variety, that will contain 1 if the corresponding row is of given variety, and 0 otherwise.\n"
      ],
      "metadata": {
        "id": "HBQyK1he6cty"
      }
    },
    {
      "cell_type": "code",
      "source": [
        "#one-hot encoding for variety\n",
        "X = pd.get_dummies(df_pumpkins['Variety'])\n",
        "y = df_pumpkins['Price']"
      ],
      "metadata": {
        "id": "RohtMNgq5eZC"
      },
      "execution_count": null,
      "outputs": []
    },
    {
      "cell_type": "code",
      "source": [
        "X_train,X_test,y_train,y_test = train_test_split(X,y,test_size=0.2,random_state=0)"
      ],
      "metadata": {
        "id": "y34d_fvq5eZj"
      },
      "execution_count": null,
      "outputs": []
    },
    {
      "cell_type": "code",
      "source": [
        "lin_reg = LinearRegression()\n",
        "\n",
        "lin_reg.fit(X_train,y_train)\n",
        "\n",
        "pred = lin_reg.predict(X_test)\n",
        "\n",
        "mse = np.sqrt(mean_squared_error(y_test,pred))\n",
        "print(f'Mean error: {mse:3.3} ({mse/np.mean(pred)*100:3.3}%)')\n",
        "\n",
        "score = lin_reg.score(X_train,y_train)\n",
        "print('Model determination: ', score)"
      ],
      "metadata": {
        "colab": {
          "base_uri": "https://localhost:8080/"
        },
        "id": "quMwXCtO5btz",
        "outputId": "0ab07842-b3c1-4cf2-cc19-c13b4401092f"
      },
      "execution_count": null,
      "outputs": [
        {
          "output_type": "stream",
          "name": "stdout",
          "text": [
            "Mean error: 5.3 (19.9%)\n",
            "Model determination:  0.7729461721925599\n"
          ]
        }
      ]
    },
    {
      "cell_type": "markdown",
      "source": [
        "The model determination metric is higher and the error decreased by half but the model could still be further improved."
      ],
      "metadata": {
        "id": "exjACpd8xwDt"
      }
    },
    {
      "cell_type": "markdown",
      "source": [
        "## Linear Regression with all variables"
      ],
      "metadata": {
        "id": "0uRLQTu7ygqx"
      }
    },
    {
      "cell_type": "code",
      "source": [
        "X = pd.get_dummies(df_pumpkins['Variety']) \\\n",
        "        .join(df_pumpkins['Month']) \\\n",
        "        .join(pd.get_dummies(df_pumpkins['City'])) \\\n",
        "        .join(pd.get_dummies(df_pumpkins['Package']))\n",
        "y = df_pumpkins['Price']\n",
        "\n",
        "X_train, X_test, y_train, y_test = train_test_split(X, y, test_size=0.2, random_state=0)\n",
        "lin_reg = LinearRegression()\n",
        "\n",
        "lin_reg.fit(X_train,y_train)\n",
        "\n",
        "pred = lin_reg.predict(X_test)\n",
        "\n",
        "mse = np.sqrt(mean_squared_error(y_test,pred))\n",
        "print(f'Mean error: {mse:3.3} ({mse/np.mean(pred)*100:3.3}%)')\n",
        "\n",
        "score = lin_reg.score(X_train,y_train)\n",
        "print('Model determination: ', score)"
      ],
      "metadata": {
        "colab": {
          "base_uri": "https://localhost:8080/"
        },
        "id": "dk8_ABK9ygq0",
        "outputId": "b137acae-a04a-46e4-cbd2-c4f42ae15879"
      },
      "execution_count": null,
      "outputs": [
        {
          "output_type": "stream",
          "name": "stdout",
          "text": [
            "Mean error: 2.84 (10.5%)\n",
            "Model determination:  0.9401078695963847\n"
          ]
        }
      ]
    },
    {
      "cell_type": "markdown",
      "source": [
        " The model shows significant improvement and performs very well with a MSE = 2.84 (10%), and determination 0.94"
      ],
      "metadata": {
        "id": "UKFjIp8Eyx2k"
      }
    },
    {
      "cell_type": "markdown",
      "source": [
        "## Polynomial regression with Day Of Year\n",
        "\n",
        "---\n",
        "\n"
      ],
      "metadata": {
        "id": "qcRkNk4wtBFA"
      }
    },
    {
      "cell_type": "markdown",
      "source": [
        "Polynomial regression creates a curved line to better fit nonlinear data. In our case, if we include a squared DayOfYear variable into input data, we should be able to fit our data with a parabolic curve, which will have a minimum at a certain point within the year."
      ],
      "metadata": {
        "id": "p2nxHCEn2LQt"
      }
    },
    {
      "cell_type": "code",
      "source": [
        "X = df_pumpkins['Day of year'].to_numpy().reshape(-1,1)\n",
        "y = df_pumpkins['Price']\n",
        "\n",
        "X_train,X_test,y_train,y_test = train_test_split(X,y,test_size=0.2,random_state=0)\n",
        "pipeline = make_pipeline(PolynomialFeatures(2), LinearRegression())\n",
        "\n",
        "pipeline.fit(X_train,y_train)"
      ],
      "metadata": {
        "colab": {
          "base_uri": "https://localhost:8080/",
          "height": 126
        },
        "id": "Z1_U9xcl2KvN",
        "outputId": "0570ed87-3c61-4ab1-c8ce-a41f5641d72f"
      },
      "execution_count": null,
      "outputs": [
        {
          "output_type": "execute_result",
          "data": {
            "text/plain": [
              "Pipeline(steps=[('polynomialfeatures', PolynomialFeatures()),\n",
              "                ('linearregression', LinearRegression())])"
            ],
            "text/html": [
              "<style>#sk-container-id-5 {color: black;background-color: white;}#sk-container-id-5 pre{padding: 0;}#sk-container-id-5 div.sk-toggleable {background-color: white;}#sk-container-id-5 label.sk-toggleable__label {cursor: pointer;display: block;width: 100%;margin-bottom: 0;padding: 0.3em;box-sizing: border-box;text-align: center;}#sk-container-id-5 label.sk-toggleable__label-arrow:before {content: \"▸\";float: left;margin-right: 0.25em;color: #696969;}#sk-container-id-5 label.sk-toggleable__label-arrow:hover:before {color: black;}#sk-container-id-5 div.sk-estimator:hover label.sk-toggleable__label-arrow:before {color: black;}#sk-container-id-5 div.sk-toggleable__content {max-height: 0;max-width: 0;overflow: hidden;text-align: left;background-color: #f0f8ff;}#sk-container-id-5 div.sk-toggleable__content pre {margin: 0.2em;color: black;border-radius: 0.25em;background-color: #f0f8ff;}#sk-container-id-5 input.sk-toggleable__control:checked~div.sk-toggleable__content {max-height: 200px;max-width: 100%;overflow: auto;}#sk-container-id-5 input.sk-toggleable__control:checked~label.sk-toggleable__label-arrow:before {content: \"▾\";}#sk-container-id-5 div.sk-estimator input.sk-toggleable__control:checked~label.sk-toggleable__label {background-color: #d4ebff;}#sk-container-id-5 div.sk-label input.sk-toggleable__control:checked~label.sk-toggleable__label {background-color: #d4ebff;}#sk-container-id-5 input.sk-hidden--visually {border: 0;clip: rect(1px 1px 1px 1px);clip: rect(1px, 1px, 1px, 1px);height: 1px;margin: -1px;overflow: hidden;padding: 0;position: absolute;width: 1px;}#sk-container-id-5 div.sk-estimator {font-family: monospace;background-color: #f0f8ff;border: 1px dotted black;border-radius: 0.25em;box-sizing: border-box;margin-bottom: 0.5em;}#sk-container-id-5 div.sk-estimator:hover {background-color: #d4ebff;}#sk-container-id-5 div.sk-parallel-item::after {content: \"\";width: 100%;border-bottom: 1px solid gray;flex-grow: 1;}#sk-container-id-5 div.sk-label:hover label.sk-toggleable__label {background-color: #d4ebff;}#sk-container-id-5 div.sk-serial::before {content: \"\";position: absolute;border-left: 1px solid gray;box-sizing: border-box;top: 0;bottom: 0;left: 50%;z-index: 0;}#sk-container-id-5 div.sk-serial {display: flex;flex-direction: column;align-items: center;background-color: white;padding-right: 0.2em;padding-left: 0.2em;position: relative;}#sk-container-id-5 div.sk-item {position: relative;z-index: 1;}#sk-container-id-5 div.sk-parallel {display: flex;align-items: stretch;justify-content: center;background-color: white;position: relative;}#sk-container-id-5 div.sk-item::before, #sk-container-id-5 div.sk-parallel-item::before {content: \"\";position: absolute;border-left: 1px solid gray;box-sizing: border-box;top: 0;bottom: 0;left: 50%;z-index: -1;}#sk-container-id-5 div.sk-parallel-item {display: flex;flex-direction: column;z-index: 1;position: relative;background-color: white;}#sk-container-id-5 div.sk-parallel-item:first-child::after {align-self: flex-end;width: 50%;}#sk-container-id-5 div.sk-parallel-item:last-child::after {align-self: flex-start;width: 50%;}#sk-container-id-5 div.sk-parallel-item:only-child::after {width: 0;}#sk-container-id-5 div.sk-dashed-wrapped {border: 1px dashed gray;margin: 0 0.4em 0.5em 0.4em;box-sizing: border-box;padding-bottom: 0.4em;background-color: white;}#sk-container-id-5 div.sk-label label {font-family: monospace;font-weight: bold;display: inline-block;line-height: 1.2em;}#sk-container-id-5 div.sk-label-container {text-align: center;}#sk-container-id-5 div.sk-container {/* jupyter's `normalize.less` sets `[hidden] { display: none; }` but bootstrap.min.css set `[hidden] { display: none !important; }` so we also need the `!important` here to be able to override the default hidden behavior on the sphinx rendered scikit-learn.org. See: https://github.com/scikit-learn/scikit-learn/issues/21755 */display: inline-block !important;position: relative;}#sk-container-id-5 div.sk-text-repr-fallback {display: none;}</style><div id=\"sk-container-id-5\" class=\"sk-top-container\"><div class=\"sk-text-repr-fallback\"><pre>Pipeline(steps=[(&#x27;polynomialfeatures&#x27;, PolynomialFeatures()),\n",
              "                (&#x27;linearregression&#x27;, LinearRegression())])</pre><b>In a Jupyter environment, please rerun this cell to show the HTML representation or trust the notebook. <br />On GitHub, the HTML representation is unable to render, please try loading this page with nbviewer.org.</b></div><div class=\"sk-container\" hidden><div class=\"sk-item sk-dashed-wrapped\"><div class=\"sk-label-container\"><div class=\"sk-label sk-toggleable\"><input class=\"sk-toggleable__control sk-hidden--visually\" id=\"sk-estimator-id-9\" type=\"checkbox\" ><label for=\"sk-estimator-id-9\" class=\"sk-toggleable__label sk-toggleable__label-arrow\">Pipeline</label><div class=\"sk-toggleable__content\"><pre>Pipeline(steps=[(&#x27;polynomialfeatures&#x27;, PolynomialFeatures()),\n",
              "                (&#x27;linearregression&#x27;, LinearRegression())])</pre></div></div></div><div class=\"sk-serial\"><div class=\"sk-item\"><div class=\"sk-estimator sk-toggleable\"><input class=\"sk-toggleable__control sk-hidden--visually\" id=\"sk-estimator-id-10\" type=\"checkbox\" ><label for=\"sk-estimator-id-10\" class=\"sk-toggleable__label sk-toggleable__label-arrow\">PolynomialFeatures</label><div class=\"sk-toggleable__content\"><pre>PolynomialFeatures()</pre></div></div></div><div class=\"sk-item\"><div class=\"sk-estimator sk-toggleable\"><input class=\"sk-toggleable__control sk-hidden--visually\" id=\"sk-estimator-id-11\" type=\"checkbox\" ><label for=\"sk-estimator-id-11\" class=\"sk-toggleable__label sk-toggleable__label-arrow\">LinearRegression</label><div class=\"sk-toggleable__content\"><pre>LinearRegression()</pre></div></div></div></div></div></div></div>"
            ]
          },
          "metadata": {},
          "execution_count": 52
        }
      ]
    },
    {
      "cell_type": "code",
      "source": [
        "pred = pipeline.predict(X_test)\n",
        "\n",
        "# calculate MSE and determination\n",
        "mse_pol_dayofyear = np.sqrt(mean_squared_error(y_test,pred))\n",
        "print(f'Mean error: {mse:3.3} ({mse_pol_dayofyear/np.mean(pred)*100:3.3}%)')\n",
        "\n",
        "score = pipeline.score(X_train,y_train)\n",
        "print('Model determination: ', score)"
      ],
      "metadata": {
        "colab": {
          "base_uri": "https://localhost:8080/"
        },
        "id": "9DukNZwl45eC",
        "outputId": "625967dd-1532-4c36-d93f-0b8a5231e362"
      },
      "execution_count": null,
      "outputs": [
        {
          "output_type": "stream",
          "name": "stdout",
          "text": [
            "Mean error: 2.84 (37.7%)\n",
            "Model determination:  0.05957799408400666\n"
          ]
        }
      ]
    },
    {
      "cell_type": "code",
      "source": [
        "plt.title(\"Test data together VS Polynomial Regression curve \")\n",
        "plt.scatter(X_test,y_test)\n",
        "plt.plot(sorted(X_test),pipeline.predict(sorted(X_test)))"
      ],
      "metadata": {
        "colab": {
          "base_uri": "https://localhost:8080/",
          "height": 469
        },
        "id": "8I5FM_by6QYn",
        "outputId": "f32bfbda-0591-4fda-8b0e-942f6556427d"
      },
      "execution_count": null,
      "outputs": [
        {
          "output_type": "execute_result",
          "data": {
            "text/plain": [
              "[<matplotlib.lines.Line2D at 0x7f921ac2d750>]"
            ]
          },
          "metadata": {},
          "execution_count": 56
        },
        {
          "output_type": "display_data",
          "data": {
            "text/plain": [
              "<Figure size 640x480 with 1 Axes>"
            ],
            "image/png": "[encoded data removed]"
          },
          "metadata": {}
        }
      ]
    },
    {
      "cell_type": "markdown",
      "source": [
        "## Polynomial Regression with All variables\n"
      ],
      "metadata": {
        "id": "FfhuF1y063m_"
      }
    },
    {
      "cell_type": "code",
      "source": [
        "X = pd.get_dummies(df_pumpkins['Variety']) \\\n",
        "        .join(df_pumpkins['Month']) \\\n",
        "        .join(pd.get_dummies(df_pumpkins['City'])) \\\n",
        "        .join(pd.get_dummies(df_pumpkins['Package']))\n",
        "y = df_pumpkins['Price']\n",
        "\n",
        "X_train, X_test, y_train, y_test = train_test_split(X, y, test_size=0.2, random_state=0)\n",
        "\n",
        "pipeline = make_pipeline(PolynomialFeatures(2),LinearRegression())\n",
        "pipeline.fit(X_train,y_train)\n",
        "\n",
        "pred = pipeline.predict(X_test)\n",
        "\n",
        "mse = np.sqrt(mean_squared_error(y_test,pred))\n",
        "print(f'Mean error: {mse:3.3} ({mse/np.mean(pred)*100:3.3}%)')\n",
        "\n",
        "score = pipeline.score(X_train,y_train)\n",
        "print('Model determination: ', score)"
      ],
      "metadata": {
        "id": "xcUVDt6ZtCzn",
        "colab": {
          "base_uri": "https://localhost:8080/"
        },
        "outputId": "888692b0-b870-47d2-9a01-eec58a599c7c"
      },
      "execution_count": null,
      "outputs": [
        {
          "output_type": "stream",
          "name": "stdout",
          "text": [
            "Mean error: 2.51 (9.19%)\n",
            "Model determination:  0.9554938013125742\n"
          ]
        }
      ]
    },
    {
      "cell_type": "markdown",
      "source": [
        "# Models results\n"
      ],
      "metadata": {
        "id": "p-0gVWNF8fOo"
      }
    },
    {
      "cell_type": "markdown",
      "source": [
        "The best model for pumpkins predictions is with Polynomial Regression using all the variables."
      ],
      "metadata": {
        "id": "sDU8Kpfv8wSN"
      }
    },
    {
      "cell_type": "markdown",
      "source": [
        "![image.png](data:image/png;base64,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)"
      ],
      "metadata": {
        "id": "ESz8EakNup16"
      }
    }
  ]
}